{
    "metadata": {
        "kernelspec": {
            "name": "SQL",
            "display_name": "SQL",
            "language": "sql"
        },
        "language_info": {
            "name": "sql",
            "version": ""
        }
    },
    "nbformat_minor": 2,
    "nbformat": 4,
    "cells": [
        {
            "cell_type": "markdown",
            "source": [
                "# SQL Sub-queries\r\n",
                "\r\n",
                "A query that is part of another is called a *sub-query*\r\n",
                "\r\n",
                "* Sub-queries return a **single constant**, this constant **can be compared with another value in a `WHERE` clause**\r\n",
                "* Sub-queries return **relations**, that **can be used in `WHERE` clause**\r\n",
                "* Sub-queries can **appear in `FROM` clauses**, followed by a tuple variable\r\n",
                "\r\n",
                "Since the SQL only has `FROM` and `WHERE` can be \"refercened\" to another view or table, sub-queries can be in there.\r\n",
                "\r\n",
                "To easier to understand, it more like *A `SELECT` clause inside/in-scope of another `SELECT`*\r\n",
                "\r\n",
                ""
            ],
            "metadata": {
                "azdata_cell_guid": "596ec03e-2452-494b-8f8e-eccb2f0cb30c"
            },
            "attachments": {}
        },
        {
            "cell_type": "code",
            "source": [
                "USE [vamtdb];\r\n",
                "GO"
            ],
            "metadata": {
                "azdata_cell_guid": "d1f75c43-294a-434a-a492-ed885f109137",
                "language": "sql"
            },
            "outputs": [],
            "execution_count": null
        },
        {
            "cell_type": "markdown",
            "source": [
                "## Tuple value in `FROM` clauses\r\n",
                "\r\n",
                "> Task: From the table `ProductKey`, calculate the average duplication products"
            ],
            "metadata": {
                "azdata_cell_guid": "afb96442-2d19-410a-9544-a840d258c345"
            },
            "attachments": {}
        },
        {
            "cell_type": "code",
            "source": [
                "SELECT AVG(DescriptionCount) AS AvgDescriptionCount\r\n",
                "FROM (\r\n",
                "  SELECT COUNT([KeyDescription]) AS DescriptionCount\r\n",
                "  FROM [base].[ProductKey]\r\n",
                "  GROUP BY [KeyDescription]\r\n",
                ") AS t;\r\n",
                ""
            ],
            "metadata": {
                "azdata_cell_guid": "4541eae4-a167-45ca-b505-76013df96b95",
                "language": "sql"
            },
            "outputs": [],
            "execution_count": null
        }
    ]
}