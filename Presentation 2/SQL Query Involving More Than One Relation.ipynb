{
    "metadata": {
        "kernelspec": {
            "name": "SQL",
            "display_name": "SQL",
            "language": "sql"
        },
        "language_info": {
            "name": "sql",
            "version": ""
        }
    },
    "nbformat_minor": 2,
    "nbformat": 4,
    "cells": [
        {
            "cell_type": "markdown",
            "source": [
                "# Queries Involving More Than One Relation\r\n",
                "\r\n",
                "In SQL, `JOIN`, `PRODUCT`, `UNION`, `INTERSECT`, and `EXCEPT` are used to interact data in multiple tables\r\n",
                "\r\n",
                ""
            ],
            "metadata": {
                "azdata_cell_guid": "5c4e29f9-6137-4d84-97d8-ca20de306547"
            },
            "attachments": {}
        },
        {
            "cell_type": "code",
            "source": [
                "USE [vamtdb];\r\n",
                "GO"
            ],
            "metadata": {
                "azdata_cell_guid": "7eb57d57-8aa5-4f9a-9613-9408d9c50888",
                "language": "sql"
            },
            "outputs": [],
            "execution_count": null
        },
        {
            "cell_type": "markdown",
            "source": [
                "## `JOIN`\r\n",
                "\r\n",
                "`JOIN` allows two different table (with the same column property) to join into a single data. Common `JOIN` are:\r\n",
                "\r\n",
                "* `INNER JOIN`: Returns rows that have matching values in both tables.\r\n",
                "* `LEFT JOIN`: Returns all rows from the left table, and matching rows from the right. If no match, `NULL` appears\r\n",
                "* `RIGHT JOIN`: Returns all rows from the right table, and matching rows from the left.\r\n",
                "* `FULL JOIN`: Returns rows when there’s a match in either table.\r\n",
                "* `CROSS JOIN`: Returns Cartesian product of two tables (every row from A × every row from B).\r\n",
                "\r\n",
                "> Task: From table `ProductKey` and `ProductKeyTypeName`, get the information of `KeyDescription` and its `KeyTypeName`, note that both can be related via `KeyType` as the reference\r\n",
                ""
            ],
            "metadata": {
                "azdata_cell_guid": "45bd662c-0c70-4791-9479-bbbbc4405105"
            },
            "attachments": {}
        },
        {
            "cell_type": "code",
            "source": [
                "SELECT DISTINCT KeyDescription, KeyTypeName\r\n",
                "    FROM base.ProductKey pk JOIN base.ProductKeyTypeName pktn ON pk.KeyType = pktn.KeyType\r\n",
                "    ORDER BY KeyDescription;"
            ],
            "metadata": {
                "azdata_cell_guid": "d51def2f-3f0f-4dca-9442-992b03a8d99c",
                "language": "sql",
                "tags": []
            },
            "outputs": [],
            "execution_count": null
        },
        {
            "cell_type": "markdown",
            "source": [
                "> Task: For each `ProductKeyTypeName`, return its own `GenuineStatusText`\r\n",
                ""
            ],
            "metadata": {
                "azdata_cell_guid": "b6825ede-cd92-4848-8792-719c81e377df"
            },
            "attachments": {}
        },
        {
            "cell_type": "code",
            "source": [
                "SELECT KeyTypeName, GenuineStatusText\r\n",
                "    FROM base.ProductKeyTypeName, base.GenuineStatusText"
            ],
            "metadata": {
                "azdata_cell_guid": "15ee2ede-5a7f-45df-87c9-31b5c3f7517b",
                "language": "sql"
            },
            "outputs": [],
            "execution_count": null
        },
        {
            "cell_type": "markdown",
            "source": [
                "## `UNION`\r\n",
                "\r\n",
                "`UNION` combines two tables into a single table. Within the same table union, it is better to use `OR`\r\n",
                "\r\n",
                "> Task: Get the `LicenseStatus` larger than 2 or ResourceLanguage is \"en-US\" in table `LicenseStatusText`. Note that using `AND` or `OR` should not allowed\r\n",
                ""
            ],
            "metadata": {
                "azdata_cell_guid": "9fe07499-aaa2-47d7-bb74-50611fb760e0"
            },
            "attachments": {}
        },
        {
            "cell_type": "code",
            "source": [
                "SELECT * FROM base.LicenseStatusText WHERE LicenseStatus > 2\r\n",
                "UNION\r\n",
                "SELECT * FROM base.LicenseStatusText WHERE ResourceLanguage = 'en-US';\r\n",
                "GO"
            ],
            "metadata": {
                "azdata_cell_guid": "057502fd-5c76-48ca-a86a-96b83580f79d",
                "language": "sql",
                "tags": []
            },
            "outputs": [],
            "execution_count": null
        },
        {
            "cell_type": "markdown",
            "source": [
                "## `INTERSECT`\r\n",
                "\r\n",
                "`INTERSECT` finds and return the same tuples among 2 tables. Within the same table intersect, it is better to use `AND`\r\n",
                "\r\n",
                "> Task: Get the activation key of product not containing \"Server\" and \"Enterprise\" in `ProductKey` table\r\n",
                ""
            ],
            "metadata": {
                "azdata_cell_guid": "029e4ea1-ceca-450d-a3ed-33b442f91452"
            },
            "attachments": {}
        },
        {
            "cell_type": "code",
            "source": [
                "SELECT [KeyDescription] FROM api.ProductKey WHERE KeyDescription NOT LIKE '%Server%'\r\n",
                "INTERSECT\r\n",
                "SELECT [KeyDescription] FROM api.ProductKey WHERE KeyDescription NOT LIKE '%Enterprise%';\r\n",
                "GO"
            ],
            "metadata": {
                "azdata_cell_guid": "e91dd2a2-b5cf-42cd-92ab-68d5b2f9fe9c",
                "language": "sql"
            },
            "outputs": [],
            "execution_count": null
        },
        {
            "cell_type": "markdown",
            "source": [
                "##  `EXCEPT`\r\n",
                "\r\n",
                "`EXCEPT` return any data that is on the table first table but on second table\r\n",
                "\r\n",
                "> Task: Select any Windows versions that is not Windows 10 on table `ProductKey`"
            ],
            "metadata": {
                "azdata_cell_guid": "66cc33d7-6c51-4af5-8921-20598d907e21"
            },
            "attachments": {}
        },
        {
            "cell_type": "code",
            "source": [
                "SELECT [KeyDescription] FROM api.ProductKey WHERE KeyDescription LIKE '%Windows%'\r\n",
                "EXCEPT\r\n",
                "SELECT [KeyDescription] FROM api.ProductKey WHERE KeyDescription LIKE '%10%';\r\n",
                "GO"
            ],
            "metadata": {
                "azdata_cell_guid": "d788d7a3-c5ab-47ad-ab38-3485a090959c",
                "language": "sql"
            },
            "outputs": [],
            "execution_count": null
        }
    ]
}