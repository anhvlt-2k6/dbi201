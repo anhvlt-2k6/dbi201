{
    "metadata": {
        "kernelspec": {
            "name": "SQL",
            "display_name": "SQL",
            "language": "sql"
        },
        "language_info": {
            "name": "sql",
            "version": ""
        }
    },
    "nbformat_minor": 2,
    "nbformat": 4,
    "cells": [
        {
            "cell_type": "code",
            "source": [
                "USE [vamtdb];\r\n",
                "GO"
            ],
            "metadata": {
                "azdata_cell_guid": "b703a939-8d05-4132-8631-e2a488e7945e",
                "language": "sql",
                "tags": []
            },
            "outputs": [],
            "execution_count": null
        },
        {
            "cell_type": "markdown",
            "source": [
                "## Product & Join in SQL\n",
                "\n",
                "Get the Product Key of Windows version where its key type is GLVK (Generic License Volume Key) (Get top 100 results)"
            ],
            "metadata": {
                "azdata_cell_guid": "79fc9d6e-4c0a-475b-b721-deccaa84cff6"
            },
            "attachments": {}
        },
        {
            "cell_type": "code",
            "source": [
                "-- Get extended ID (KeyID) of product name \"server\"\r\n",
                "\r\n",
                "SELECT TOP(100) KeyValue, base.ProductKey.KeyType, KeyDescription\r\n",
                "    FROM base.ProductKey, base.ProductKeyTypeName\r\n",
                "    WHERE base.ProductKey.KeyType = base.ProductKeyTypeName.KeyType AND KeyDescription LIKE '%Windows%'\r\n",
                "    ORDER BY KeyDescription;"
            ],
            "metadata": {
                "azdata_cell_guid": "30467586-db36-4a70-8c6d-1c38e3951bea",
                "language": "sql",
                "tags": []
            },
            "outputs": [],
            "execution_count": null
        },
        {
            "cell_type": "markdown",
            "source": [
                "## Using `distinct` in `SELECT`\r\n",
                "\r\n",
                "Get all product that has a product key. Order by its name.\r\n",
                ""
            ],
            "metadata": {
                "azdata_cell_guid": "f81aa5f9-7272-47b6-9301-15f58f006c46"
            },
            "attachments": {}
        },
        {
            "cell_type": "code",
            "source": [
                "SELECT DISTINCT KeyDescription\r\n",
                "    FROM base.ProductKey\r\n",
                "    ORDER BY KeyDescription;"
            ],
            "metadata": {
                "azdata_cell_guid": "2d7a7a25-c96d-463f-9a25-3d3e050681f3",
                "language": "sql"
            },
            "outputs": [],
            "execution_count": null
        },
        {
            "cell_type": "markdown",
            "source": [
                ""
            ],
            "metadata": {
                "azdata_cell_guid": "a4cb03ea-bba2-419d-889a-48d2dbf3b638"
            }
        }
    ]
}