{
    "metadata": {
        "kernelspec": {
            "name": "SQL",
            "display_name": "SQL",
            "language": "sql"
        },
        "language_info": {
            "name": "sql",
            "version": ""
        }
    },
    "nbformat_minor": 2,
    "nbformat": 4,
    "cells": [
        {
            "cell_type": "code",
            "source": [
                "USE [vamtdb];\r\n",
                "GO"
            ],
            "metadata": {
                "azdata_cell_guid": "b703a939-8d05-4132-8631-e2a488e7945e",
                "language": "sql",
                "tags": []
            },
            "outputs": [],
            "execution_count": null
        },
        {
            "cell_type": "markdown",
            "source": [
                "## Product & Join in SQL\n",
                ""
            ],
            "metadata": {
                "azdata_cell_guid": "79fc9d6e-4c0a-475b-b721-deccaa84cff6"
            },
            "attachments": {}
        },
        {
            "cell_type": "code",
            "source": [
                "SELECT TOP(100) KeyValue, base.ProductKey.KeyType, KeyTypeName, KeyDescription\r\n",
                "    FROM base.ProductKey, base.ProductKeyTypeName\r\n",
                "    WHERE base.ProductKey.KeyType = base.ProductKeyTypeName.KeyType AND KeyTypeName LIKE 'GVLK'\r\n",
                "    ORDER BY KeyDescription;"
            ],
            "metadata": {
                "azdata_cell_guid": "30467586-db36-4a70-8c6d-1c38e3951bea",
                "language": "sql",
                "tags": []
            },
            "outputs": [],
            "execution_count": null
        },
        {
            "cell_type": "markdown",
            "source": [
                "## Using `distinct` in `SELECT`\r\n",
                "\r\n",
                ""
            ],
            "metadata": {
                "azdata_cell_guid": "f81aa5f9-7272-47b6-9301-15f58f006c46"
            },
            "attachments": {}
        },
        {
            "cell_type": "code",
            "source": [
                "SELECT DISTINCT KeyDescription\r\n",
                "    FROM base.ProductKey\r\n",
                "    ORDER BY KeyDescription;"
            ],
            "metadata": {
                "azdata_cell_guid": "2d7a7a25-c96d-463f-9a25-3d3e050681f3",
                "language": "sql",
                "tags": []
            },
            "outputs": [],
            "execution_count": null
        },
        {
            "cell_type": "markdown",
            "source": [
                "## `Union` selection\r\n",
                ""
            ],
            "metadata": {
                "azdata_cell_guid": "a4cb03ea-bba2-419d-889a-48d2dbf3b638"
            },
            "attachments": {}
        },
        {
            "cell_type": "code",
            "source": [
                "SELECT DISTINCT KeyDescription FROM base.ProductKey WHERE KeyDescription LIKE '%Enterprise%'\r\n",
                "UNION\r\n",
                "SELECT DISTINCT KeyDescription FROM base.ProductKey WHERE KeyDescription LIKE '%Server%'\r\n",
                "GO"
            ],
            "metadata": {
                "azdata_cell_guid": "f578b576-0461-4d85-9190-c8dcbd431713",
                "language": "sql",
                "tags": []
            },
            "outputs": [],
            "execution_count": null
        },
        {
            "cell_type": "markdown",
            "source": [
                "## `EXCEPT` selection\r\n",
                ""
            ],
            "metadata": {
                "azdata_cell_guid": "b9e53d67-a561-4004-9c8a-300fa3e115d1"
            },
            "attachments": {}
        },
        {
            "cell_type": "code",
            "source": [
                "SELECT DISTINCT KeyDescription FROM base.ProductKey WHERE KeyDescription LIKE '%Server%'\r\n",
                "EXCEPT\r\n",
                "SELECT DISTINCT KeyDescription FROM base.ProductKey WHERE KeyDescription LIKE '%Standard%'\r\n",
                "GO"
            ],
            "metadata": {
                "azdata_cell_guid": "49cff35c-30b6-4a21-a412-025047141082",
                "language": "sql"
            },
            "outputs": [],
            "execution_count": null
        }
    ]
}