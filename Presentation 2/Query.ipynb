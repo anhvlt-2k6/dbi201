{
    "metadata": {
        "kernelspec": {
            "name": "SQL",
            "display_name": "SQL",
            "language": "sql"
        },
        "language_info": {
            "name": "sql",
            "version": ""
        }
    },
    "nbformat_minor": 2,
    "nbformat": 4,
    "cells": [
        {
            "cell_type": "code",
            "source": [
                "USE [vamtdb];\r\n",
                "GO"
            ],
            "metadata": {
                "azdata_cell_guid": "b703a939-8d05-4132-8631-e2a488e7945e",
                "language": "sql",
                "tags": []
            },
            "outputs": [
                {
                    "output_type": "display_data",
                    "data": {
                        "text/html": "Commands completed successfully."
                    },
                    "metadata": {}
                },
                {
                    "output_type": "display_data",
                    "data": {
                        "text/html": "Total execution time: 00:00:00"
                    },
                    "metadata": {}
                }
            ],
            "execution_count": 15
        },
        {
            "cell_type": "markdown",
            "source": [
                "## Product & Join in SQL\n",
                "\n",
                "Get the Product Key of Windows version where its key type is GLVK (Generic License Volume Key) (Get top 100 results)"
            ],
            "metadata": {
                "azdata_cell_guid": "79fc9d6e-4c0a-475b-b721-deccaa84cff6"
            },
            "attachments": {}
        },
        {
            "cell_type": "code",
            "source": [
                "-- Get extended ID (KeyID) of product name \"server\"\r\n",
                "\r\n",
                "SELECT TOP(100) KeyValue, base.ProductKey.KeyType, KeyDescription\r\n",
                "    FROM base.ProductKey, base.ProductKeyTypeName\r\n",
                "    WHERE base.ProductKey.KeyType = base.ProductKeyTypeName.KeyType AND KeyDescription LIKE '%Windows%'\r\n",
                "    ORDER BY KeyDescription;"
            ],
            "metadata": {
                "azdata_cell_guid": "30467586-db36-4a70-8c6d-1c38e3951bea",
                "language": "sql",
                "tags": []
            },
            "outputs": [
                {
                    "output_type": "display_data",
                    "data": {
                        "text/html": "(100 rows affected)"
                    },
                    "metadata": {}
                },
                {
                    "output_type": "display_data",
                    "data": {
                        "text/html": "Total execution time: 00:00:00.011"
                    },
                    "metadata": {}
                },
                {
                    "output_type": "execute_result",
                    "metadata": {},
                    "execution_count": 16,
                    "data": {
                        "application/vnd.dataresource+json": {
                            "schema": {
                                "fields": [
                                    {
                                        "name": "KeyValue"
                                    },
                                    {
                                        "name": "KeyType"
                                    },
                                    {
                                        "name": "KeyDescription"
                                    }
                                ]
                            },
                            "data": [
                                {
                                    "KeyValue": "MG8HC-CX27M-HD94F-8RDQJ-JDJ2T",
                                    "KeyType": "5",
                                    "KeyDescription": "Windows 7 All Volume Editions Volume:CSVLK"
                                },
                                {
                                    "KeyValue": "MJ8JG-7XHMY-P8KRC-96GK6-PFM3T",
                                    "KeyType": "5",
                                    "KeyDescription": "Windows 7 All Volume Editions Volume:CSVLK"
                                },
                                {
                                    "KeyValue": "MRVDD-KYG9P-RM46G-GJG8G-QYBXB",
                                    "KeyType": "5",
                                    "KeyDescription": "Windows 7 All Volume Editions Volume:CSVLK"
                                },
                                {
                                    "KeyValue": "PQ3WQ-KBFYJ-T22K2-BFJQC-W6MRR",
                                    "KeyType": "5",
                                    "KeyDescription": "Windows 7 All Volume Editions Volume:CSVLK"
                                },
                                {
                                    "KeyValue": "PXYMB-WTKFH-66BCV-CHRT4-H6T2F",
                                    "KeyType": "5",
                                    "KeyDescription": "Windows 7 All Volume Editions Volume:CSVLK"
                                },
                                {
                                    "KeyValue": "TBR8K-XPG73-FJK8W-GR69Q-P7CB8",
                                    "KeyType": "5",
                                    "KeyDescription": "Windows 7 All Volume Editions Volume:CSVLK"
                                },
                                {
                                    "KeyValue": "BJX7R-XR2MF-W4DRY-6H3F9-V2GK4",
                                    "KeyType": "5",
                                    "KeyDescription": "Windows 7 All Volume Editions Volume:CSVLK"
                                },
                                {
                                    "KeyValue": "C6DB2-BFGKQ-4MHCF-W9QGB-VTVQF",
                                    "KeyType": "5",
                                    "KeyDescription": "Windows 7 All Volume Editions Volume:CSVLK"
                                },
                                {
                                    "KeyValue": "CXM4H-FRMW6-2WTK2-3CJ2C-3VCFP",
                                    "KeyType": "5",
                                    "KeyDescription": "Windows 7 All Volume Editions Volume:CSVLK"
                                },
                                {
                                    "KeyValue": "J96KR-GVPFF-H7QXT-BVYXW-HXCDF",
                                    "KeyType": "5",
                                    "KeyDescription": "Windows 7 All Volume Editions Volume:CSVLK"
                                },
                                {
                                    "KeyValue": "2QHK6-WR92F-FJY4Y-3GCXK-FWM2T",
                                    "KeyType": "5",
                                    "KeyDescription": "Windows 7 All Volume Editions Volume:CSVLK"
                                },
                                {
                                    "KeyValue": "33PXH-7Y6KF-2VJC9-XBBR8-HVTHH",
                                    "KeyType": "6",
                                    "KeyDescription": "Windows 7 Enterprise Volume:GVLK"
                                },
                                {
                                    "KeyValue": "C29WB-22CC8-VJ326-GHFJW-H9DH4",
                                    "KeyType": "6",
                                    "KeyDescription": "Windows 7 EnterpriseE Volume:GVLK"
                                },
                                {
                                    "KeyValue": "YDRBP-3D83W-TY26F-D46B2-XCKRJ",
                                    "KeyType": "6",
                                    "KeyDescription": "Windows 7 EnterpriseN Volume:GVLK"
                                },
                                {
                                    "KeyValue": "FJ82H-XT6CR-J8D7P-XQJJ2-GPDD4",
                                    "KeyType": "6",
                                    "KeyDescription": "Windows 7 Professional Volume:GVLK"
                                },
                                {
                                    "KeyValue": "W82YF-2Q76Y-63HXB-FGJG9-GF7QX",
                                    "KeyType": "6",
                                    "KeyDescription": "Windows 7 ProfessionalE Volume:GVLK"
                                },
                                {
                                    "KeyValue": "MRPKT-YTG23-K7D7T-X2JMM-QY7MG",
                                    "KeyType": "6",
                                    "KeyDescription": "Windows 7 ProfessionalN Volume:GVLK"
                                },
                                {
                                    "KeyValue": "7XKNG-JD7W3-TKFJX-VFMVY-KD49H",
                                    "KeyType": "8",
                                    "KeyDescription": "Windows Embedded Industry 8 RTM EmbeddedIndustry Retail:TB:Eval"
                                },
                                {
                                    "KeyValue": "RYXVT-BNQG7-VD29F-DBMRY-HT73M",
                                    "KeyType": "6",
                                    "KeyDescription": "Windows Embedded Industry 8 RTM EmbeddedIndustry Volume:GVLK"
                                },
                                {
                                    "KeyValue": "NKB3R-R2F8T-3XCDP-7Q2KW-XWYQ2",
                                    "KeyType": "6",
                                    "KeyDescription": "Windows Embedded Industry 8 RTM EmbeddedIndustryE Volume:GVLK"
                                },
                                {
                                    "KeyValue": "NMMPB-38DD4-R2823-62W8D-VXKJB",
                                    "KeyType": "6",
                                    "KeyDescription": "Windows Embedded Industry 8.1 RTM EmbeddedIndustry Volume:GVLK"
                                },
                                {
                                    "KeyValue": "27NCT-6DWB8-TTG3Y-9HR7P-6JD4M",
                                    "KeyType": "6",
                                    "KeyDescription": "Windows Embedded Industry 8.1 RTM EmbeddedIndustry Volume:GVLK"
                                },
                                {
                                    "KeyValue": "84BXD-CNDHY-4GDJJ-X63JW-VH42J",
                                    "KeyType": "6",
                                    "KeyDescription": "Windows Embedded Industry 8.1 RTM EmbeddedIndustryA Volume:GVLK"
                                },
                                {
                                    "KeyValue": "VHXM3-NR6FT-RY6RT-CK882-KW2CJ",
                                    "KeyType": "6",
                                    "KeyDescription": "Windows Embedded Industry 8.1 RTM EmbeddedIndustryA Volume:GVLK"
                                },
                                {
                                    "KeyValue": "FNFKF-PWTVT-9RC8H-32HB2-JB34X",
                                    "KeyType": "6",
                                    "KeyDescription": "Windows Embedded Industry 8.1 RTM EmbeddedIndustryE Volume:GVLK"
                                },
                                {
                                    "KeyValue": "VN3WH-49MTM-8G2XG-MJP4Q-9D6WK",
                                    "KeyType": "6",
                                    "KeyDescription": "Windows Embedded Industry 8.1 RTM EmbeddedIndustryE Volume:GVLK"
                                },
                                {
                                    "KeyValue": "YBYF6-BHCR3-JPKRB-CDW7B-F9BK4",
                                    "KeyType": "6",
                                    "KeyDescription": "Windows Embedded POSReady 7 POSReady Volume:GVLK"
                                },
                                {
                                    "KeyValue": "W3B2Q-MN6MQ-BCYF3-VGDWF-3C78C",
                                    "KeyType": "8",
                                    "KeyDescription": "Windows Embedded Standard 8 RC Embedded Retail:TB:Eval"
                                },
                                {
                                    "KeyValue": "JBYN8-BT6X6-4XB2G-P33V4-K4PR6",
                                    "KeyType": "8",
                                    "KeyDescription": "Windows Embedded Standard 8 RC EmbeddedE Retail:TB:Eval"
                                },
                                {
                                    "KeyValue": "NDDRT-KKVGM-D33R2-KR372-27G4Y",
                                    "KeyType": "8",
                                    "KeyDescription": "Windows Embedded Standard 8 RTM Embedded Retail:TB:Eval"
                                },
                                {
                                    "KeyValue": "9XGG6-9NYT7-8RQY6-FP7WK-GJDFY",
                                    "KeyType": "8",
                                    "KeyDescription": "Windows Embedded Standard 8 RTM Embedded Retail:TB:Eval"
                                },
                                {
                                    "KeyValue": "W3GGN-FT8W3-Y4M27-J84CP-Q3VJ9",
                                    "KeyType": "6",
                                    "KeyDescription": "Windows Server 12 R2 RTM ServerDatacenter Volume:GVLK"
                                },
                                {
                                    "KeyValue": "8NK82-6VX8B-26782-4H7M9-KP9CX",
                                    "KeyType": "6",
                                    "KeyDescription": "Windows Server 12 R2 RTM ServerDatacenter Volume:GVLK"
                                },
                                {
                                    "KeyValue": "4XN2G-KDTJX-DYGXT-9Q8CV-JQJGK",
                                    "KeyType": "6",
                                    "KeyDescription": "Windows Server 12 R2 RTM ServerDatacenter Volume:GVLK"
                                },
                                {
                                    "KeyValue": "D2N9P-3P6X9-2R39C-7RTCD-MDVJX",
                                    "KeyType": "6",
                                    "KeyDescription": "Windows Server 12 R2 RTM ServerStandard Volume:GVLK"
                                },
                                {
                                    "KeyValue": "RCTX3-KWVHP-BR6TB-RB6DM-6X7HP",
                                    "KeyType": "6",
                                    "KeyDescription": "Windows Server 2008 Compute Cluster GVLK"
                                },
                                {
                                    "KeyValue": "BHC4Q-6D7B7-QMVH7-4MKQH-Y9VK7",
                                    "KeyType": "5",
                                    "KeyDescription": "Windows Server 2008 Datacenter & Itanium CSVLK"
                                },
                                {
                                    "KeyValue": "7M67G-PC374-GR742-YH8V4-TCBY3",
                                    "KeyType": "6",
                                    "KeyDescription": "Windows Server 2008 Datacenter GVLK"
                                },
                                {
                                    "KeyValue": "22XQ2-VRXRG-P8D42-K34TD-G3QQC",
                                    "KeyType": "6",
                                    "KeyDescription": "Windows Server 2008 DatacenterV GVLK"
                                },
                                {
                                    "KeyValue": "YQGMW-MPWTJ-34KDK-48M3W-X4Q6V",
                                    "KeyType": "6",
                                    "KeyDescription": "Windows Server 2008 Enterprise GVLK"
                                },
                                {
                                    "KeyValue": "39BXF-X8Q23-P2WWT-38T2F-G3FPG",
                                    "KeyType": "6",
                                    "KeyDescription": "Windows Server 2008 EnterpriseV GVLK"
                                },
                                {
                                    "KeyValue": "4DWFP-JF3DJ-B7DTH-78FJB-PDRHK",
                                    "KeyType": "6",
                                    "KeyDescription": "Windows Server 2008 Itanium GVLK"
                                },
                                {
                                    "KeyValue": "TM24T-X9RMF-VWXK6-X8JC9-BFGM2",
                                    "KeyType": "6",
                                    "KeyDescription": "Windows Server 2008 Standard GVLK"
                                },
                                {
                                    "KeyValue": "W7VD6-7JFBR-RX26B-YKQ3Y-6FFFJ",
                                    "KeyType": "6",
                                    "KeyDescription": "Windows Server 2008 StandardV GVLK"
                                },
                                {
                                    "KeyValue": "WYR28-R7TFJ-3X2YQ-YCY4H-M249D",
                                    "KeyType": "6",
                                    "KeyDescription": "Windows Server 2008 Web GVLK"
                                },
                                {
                                    "KeyValue": "37FTJ-GF9TX-P3GMR-R6C42-X3HP9",
                                    "KeyType": "5",
                                    "KeyDescription": "Windows Server 2012 R2 RTM ServerDatacenter;ServerStandard Volume:CSVLK"
                                },
                                {
                                    "KeyValue": "48HP8-DN98B-MYWDG-T2DCC-8W83P",
                                    "KeyType": "6",
                                    "KeyDescription": "Windows Server 2012 RTM ServerDatacenter Volume:GVLK"
                                },
                                {
                                    "KeyValue": "KM7FD-2WNWX-FMH2Y-43KXF-CRYT4",
                                    "KeyType": "6",
                                    "KeyDescription": "Windows Server 2012 RTM ServerStandard Volume:GVLK"
                                },
                                {
                                    "KeyValue": "XC9B7-NBPP2-83J2H-RHMBY-92BT4",
                                    "KeyType": "6",
                                    "KeyDescription": "Windows Server 2012 RTM ServerStandard Volume:GVLK"
                                },
                                {
                                    "KeyValue": "WNCYY-GFBH2-M4WTT-XQ2FP-PG2K9",
                                    "KeyType": "6",
                                    "KeyDescription": "Windows Server 2016 RTM ServerAzureCor Volume:GVLK"
                                },
                                {
                                    "KeyValue": "VP34G-4NPPG-79JTQ-864T4-R3MQX",
                                    "KeyType": "6",
                                    "KeyDescription": "Windows Server 2016 RTM ServerAzureCor Volume:GVLK"
                                },
                                {
                                    "KeyValue": "J34ND-TJJTV-HQR9M-7GK9P-TMVXT",
                                    "KeyType": "6",
                                    "KeyDescription": "Windows Server 2016 RTM ServerDatacenter Volume:GVLK"
                                },
                                {
                                    "KeyValue": "K97VN-B87KF-M4W9D-4HP74-2KDDG",
                                    "KeyType": "6",
                                    "KeyDescription": "Windows Server 2016 RTM ServerDatacenter Volume:GVLK"
                                },
                                {
                                    "KeyValue": "RYNGC-7H7T8-PFJ8K-B9JMR-9W39T",
                                    "KeyType": "6",
                                    "KeyDescription": "Windows Server 2016 RTM ServerDatacenter Volume:GVLK"
                                },
                                {
                                    "KeyValue": "CB7KF-BWN84-R7R2Y-793K2-8XDDG",
                                    "KeyType": "6",
                                    "KeyDescription": "Windows Server 2016 RTM ServerDatacenter Volume:GVLK"
                                },
                                {
                                    "KeyValue": "263NC-WD6PB-RVD74-G4RGB-39PHM",
                                    "KeyType": "6",
                                    "KeyDescription": "Windows Server 2016 RTM ServerStandard Volume:GVLK"
                                },
                                {
                                    "KeyValue": "TN2DT-HC3MB-MTD2R-H8C42-VFT3Y",
                                    "KeyType": "6",
                                    "KeyDescription": "Windows Server 2016 RTM ServerStandard Volume:GVLK"
                                },
                                {
                                    "KeyValue": "WC2BQ-8NRM3-FDDYY-2BFGV-KHKQY",
                                    "KeyType": "6",
                                    "KeyDescription": "Windows Server 2016 RTM ServerStandard Volume:GVLK"
                                },
                                {
                                    "KeyValue": "GRFBW-QNDC4-6QBHG-CCK3B-2PR88",
                                    "KeyType": "6",
                                    "KeyDescription": "Windows Server 2019 RTM ServerARM64 Volume:GVLK"
                                },
                                {
                                    "KeyValue": "2M3WR-NQW7W-7MX3H-TYCRD-8MBPW",
                                    "KeyType": "6",
                                    "KeyDescription": "Windows Server 2019 RTM ServerARM64 Volume:GVLK"
                                },
                                {
                                    "KeyValue": "FDNH6-VW9RW-BXPJ7-4XTYG-239TB",
                                    "KeyType": "6",
                                    "KeyDescription": "Windows Server 2019 RTM ServerAzureCor Volume:GVLK"
                                },
                                {
                                    "KeyValue": "VNJG3-QDK8Q-C3DPY-6HKRM-2PR8Y",
                                    "KeyType": "6",
                                    "KeyDescription": "Windows Server 2019 RTM ServerAzureCor Volume:GVLK"
                                },
                                {
                                    "KeyValue": "WMDGN-G9PQG-XVVXX-R3X43-63DFG",
                                    "KeyType": "6",
                                    "KeyDescription": "Windows Server 2019 RTM ServerDatacenter Volume:GVLK"
                                },
                                {
                                    "KeyValue": "PR3DM-NGHRJ-RXJQT-FFJPV-JQPH6",
                                    "KeyType": "6",
                                    "KeyDescription": "Windows Server 2019 RTM ServerDatacenter Volume:GVLK"
                                },
                                {
                                    "KeyValue": "TX3M3-HN6CW-2D8RM-QKCVK-WT3F3",
                                    "KeyType": "6",
                                    "KeyDescription": "Windows Server 2019 RTM ServerDatacenterACor Volume:GVLK"
                                },
                                {
                                    "KeyValue": "6NMRW-2C8FM-D24W7-TQWMY-CWH2D",
                                    "KeyType": "6",
                                    "KeyDescription": "Windows Server 2019 RTM ServerDatacenterACor Volume:GVLK"
                                },
                                {
                                    "KeyValue": "CPWHC-NT2C7-VYW78-DHDB2-PG3GK",
                                    "KeyType": "6",
                                    "KeyDescription": "Windows Server 2019 RTM ServerRdsh Volume:GVLK"
                                },
                                {
                                    "KeyValue": "VMKVQ-3MN6B-BVM9F-YWV97-R9FCX",
                                    "KeyType": "6",
                                    "KeyDescription": "Windows Server 2019 RTM ServerRdsh Volume:GVLK"
                                },
                                {
                                    "KeyValue": "N69G4-B89J2-4G8F4-WWYCC-J464C",
                                    "KeyType": "6",
                                    "KeyDescription": "Windows Server 2019 RTM ServerStandard Volume:GVLK"
                                },
                                {
                                    "KeyValue": "N76RK-Y8DB4-TCGMV-TB6JB-RC4BP",
                                    "KeyType": "6",
                                    "KeyDescription": "Windows Server 2019 RTM ServerStandard Volume:GVLK"
                                },
                                {
                                    "KeyValue": "N2KJX-J94YW-TQVFB-DG9YT-724CC",
                                    "KeyType": "6",
                                    "KeyDescription": "Windows Server 2019 RTM ServerStandardACor Volume:GVLK"
                                },
                                {
                                    "KeyValue": "PHN2T-WHKP4-X8RTQ-TD9TT-D3YPC",
                                    "KeyType": "6",
                                    "KeyDescription": "Windows Server 2019 RTM ServerStandardACor Volume:GVLK"
                                },
                                {
                                    "KeyValue": "NTBV8-9K7Q8-V27C6-M2BTV-KHMXV",
                                    "KeyType": "6",
                                    "KeyDescription": "Windows Server 2019 RTM ServerTurbine Volume:GVLK"
                                },
                                {
                                    "KeyValue": "FD8RN-MHFGM-VM69M-H9D67-94WFQ",
                                    "KeyType": "6",
                                    "KeyDescription": "Windows Server 2021 RTM ServerAzureCor Volume:GVLK"
                                },
                                {
                                    "KeyValue": "6N379-GGTMK-23C6M-XVVTC-CKFRQ",
                                    "KeyType": "6",
                                    "KeyDescription": "Windows Server 2021 RTM ServerAzureCor Volume:GVLK"
                                },
                                {
                                    "KeyValue": "WX4NM-KYWYW-QJJR4-XV3QB-6VM33",
                                    "KeyType": "6",
                                    "KeyDescription": "Windows Server 2021 RTM ServerDatacenter Volume:GVLK"
                                },
                                {
                                    "KeyValue": "YNVYH-P6CR8-GKP9K-29KYD-M7X77",
                                    "KeyType": "6",
                                    "KeyDescription": "Windows Server 2021 RTM ServerDatacenterACor Volume:GVLK"
                                },
                                {
                                    "KeyValue": "QFND9-D3Y9C-J3KKY-6RPVP-2DPYV",
                                    "KeyType": "6",
                                    "KeyDescription": "Windows Server 2021 RTM ServerDatacenterACor Volume:GVLK"
                                },
                                {
                                    "KeyValue": "8HFYN-J9P27-4CPWF-8YJYF-F63V4",
                                    "KeyType": "8",
                                    "KeyDescription": "Windows Server 2021 RTM ServerDatacenterEval Retail:TB:Eval"
                                },
                                {
                                    "KeyValue": "84NDK-M3JW4-PHYFH-CM7GR-6Q9TF",
                                    "KeyType": "8",
                                    "KeyDescription": "Windows Server 2021 RTM ServerDatacenterEvalCor Retail:TB:Eval"
                                },
                                {
                                    "KeyValue": "VDYBN-27WPP-V4HQT-9VMD4-VMK7H",
                                    "KeyType": "6",
                                    "KeyDescription": "Windows Server 2021 RTM ServerStandard Volume:GVLK"
                                },
                                {
                                    "KeyValue": "67KN8-4FYJW-2487Q-MQ2J7-4C4RG",
                                    "KeyType": "6",
                                    "KeyDescription": "Windows Server 2021 RTM ServerStandardACor Volume:GVLK"
                                },
                                {
                                    "KeyValue": "4PV9K-NRWQ6-HJ8FV-B68XJ-DGRRG",
                                    "KeyType": "6",
                                    "KeyDescription": "Windows Server 2021 RTM ServerStandardACor Volume:GVLK"
                                },
                                {
                                    "KeyValue": "C6NT2-9VP7V-64KKG-CT2GW-7FWDY",
                                    "KeyType": "8",
                                    "KeyDescription": "Windows Server 2021 RTM ServerStandardEval Retail:TB:Eval"
                                },
                                {
                                    "KeyValue": "NX6TT-WH4BH-CJC2P-M98B8-33YPV",
                                    "KeyType": "8",
                                    "KeyDescription": "Windows Server 2021 RTM ServerStandardEvalCor Retail:TB:Eval"
                                },
                                {
                                    "KeyValue": "D764K-2NDRG-47T6Q-P8T8W-YP6DF",
                                    "KeyType": "6",
                                    "KeyDescription": "Windows Server 2025 RTM ServerDatacenter Volume:GVLK"
                                },
                                {
                                    "KeyValue": "CNFDQ-2BW8H-9V4WM-TKCPD-MD2QF",
                                    "KeyType": "6",
                                    "KeyDescription": "Windows Server 2025 RTM ServerDatacenter Volume:GVLK"
                                },
                                {
                                    "KeyValue": "TVRH6-WHNXV-R9WG3-9XRFY-MY832",
                                    "KeyType": "6",
                                    "KeyDescription": "Windows Server 2025 RTM ServerStandard Volume:GVLK"
                                },
                                {
                                    "KeyValue": "XGN3F-F394H-FD2MY-PP6FD-8MCRC",
                                    "KeyType": "6",
                                    "KeyDescription": "Windows Server 2025 RTM ServerTurbine Volume:GVLK"
                                },
                                {
                                    "KeyValue": "R9N79-23MWD-MBP9B-KHF8Q-C36WX",
                                    "KeyType": "8",
                                    "KeyDescription": "Windows Server Essentials 2012 R2 RTM ServerSolution Retail:TB:Eval"
                                },
                                {
                                    "KeyValue": "DGNRX-VV6CG-R4FDC-QJ9Q2-6JD2B",
                                    "KeyType": "6",
                                    "KeyDescription": "Windows Server Essentials 2012 R2 RTM ServerSolution Volume:GVLK"
                                },
                                {
                                    "KeyValue": "KNC87-3J2TX-XB4WP-VCPJV-M4FWM",
                                    "KeyType": "6",
                                    "KeyDescription": "Windows Server Essentials 2012 R2 RTM ServerSolution Volume:GVLK"
                                },
                                {
                                    "KeyValue": "4NW26-CWYHB-HHMP9-4GB7Q-DV4WM",
                                    "KeyType": "6",
                                    "KeyDescription": "Windows Server Essentials 2012 R2 RTM ServerSolution Volume:GVLK"
                                },
                                {
                                    "KeyValue": "HTDQM-NBMMG-KGYDT-2DTKT-J2MPV",
                                    "KeyType": "6",
                                    "KeyDescription": "Windows Server Essentials 2012 RTM ServerSolution Volume:GVLK"
                                },
                                {
                                    "KeyValue": "JCKRF-N37P4-C2D82-9YXRT-4M63B",
                                    "KeyType": "6",
                                    "KeyDescription": "Windows Server Essentials 2016 RTM ServerSolution Volume:GVLK"
                                },
                                {
                                    "KeyValue": "98YNF-QCDGK-HC2PD-9C9FR-DJ39M",
                                    "KeyType": "6",
                                    "KeyDescription": "Windows Server Essentials 2016 RTM ServerSolution Volume:GVLK"
                                },
                                {
                                    "KeyValue": "WP7Y3-7NPCB-MKFTC-YJ2KJ-MTD9M",
                                    "KeyType": "6",
                                    "KeyDescription": "Windows Server Essentials 2016 RTM ServerSolution Volume:GVLK"
                                },
                                {
                                    "KeyValue": "WVDHN-86M7X-466P6-VHXV7-YY726",
                                    "KeyType": "6",
                                    "KeyDescription": "Windows Server Essentials 2019 RTM ServerSolution Volume:GVLK"
                                },
                                {
                                    "KeyValue": "7NBT4-WGBQX-MP4H7-QXFF8-YP3KX",
                                    "KeyType": "6",
                                    "KeyDescription": "Windows Server Next Beta ServerRdsh Volume:GVLK"
                                },
                                {
                                    "KeyValue": "2NCTC-KX62G-72P7B-G7QYW-29YT9",
                                    "KeyType": "6",
                                    "KeyDescription": "Windows Server Next Beta ServerRdsh Volume:GVLK"
                                }
                            ]
                        },
                        "text/html": [
                            "<table>",
                            "<tr><th>KeyValue</th><th>KeyType</th><th>KeyDescription</th></tr>",
                            "<tr><td>MG8HC-CX27M-HD94F-8RDQJ-JDJ2T</td><td>5</td><td>Windows 7 All Volume Editions Volume:CSVLK</td></tr>",
                            "<tr><td>MJ8JG-7XHMY-P8KRC-96GK6-PFM3T</td><td>5</td><td>Windows 7 All Volume Editions Volume:CSVLK</td></tr>",
                            "<tr><td>MRVDD-KYG9P-RM46G-GJG8G-QYBXB</td><td>5</td><td>Windows 7 All Volume Editions Volume:CSVLK</td></tr>",
                            "<tr><td>PQ3WQ-KBFYJ-T22K2-BFJQC-W6MRR</td><td>5</td><td>Windows 7 All Volume Editions Volume:CSVLK</td></tr>",
                            "<tr><td>PXYMB-WTKFH-66BCV-CHRT4-H6T2F</td><td>5</td><td>Windows 7 All Volume Editions Volume:CSVLK</td></tr>",
                            "<tr><td>TBR8K-XPG73-FJK8W-GR69Q-P7CB8</td><td>5</td><td>Windows 7 All Volume Editions Volume:CSVLK</td></tr>",
                            "<tr><td>BJX7R-XR2MF-W4DRY-6H3F9-V2GK4</td><td>5</td><td>Windows 7 All Volume Editions Volume:CSVLK</td></tr>",
                            "<tr><td>C6DB2-BFGKQ-4MHCF-W9QGB-VTVQF</td><td>5</td><td>Windows 7 All Volume Editions Volume:CSVLK</td></tr>",
                            "<tr><td>CXM4H-FRMW6-2WTK2-3CJ2C-3VCFP</td><td>5</td><td>Windows 7 All Volume Editions Volume:CSVLK</td></tr>",
                            "<tr><td>J96KR-GVPFF-H7QXT-BVYXW-HXCDF</td><td>5</td><td>Windows 7 All Volume Editions Volume:CSVLK</td></tr>",
                            "<tr><td>2QHK6-WR92F-FJY4Y-3GCXK-FWM2T</td><td>5</td><td>Windows 7 All Volume Editions Volume:CSVLK</td></tr>",
                            "<tr><td>33PXH-7Y6KF-2VJC9-XBBR8-HVTHH</td><td>6</td><td>Windows 7 Enterprise Volume:GVLK</td></tr>",
                            "<tr><td>C29WB-22CC8-VJ326-GHFJW-H9DH4</td><td>6</td><td>Windows 7 EnterpriseE Volume:GVLK</td></tr>",
                            "<tr><td>YDRBP-3D83W-TY26F-D46B2-XCKRJ</td><td>6</td><td>Windows 7 EnterpriseN Volume:GVLK</td></tr>",
                            "<tr><td>FJ82H-XT6CR-J8D7P-XQJJ2-GPDD4</td><td>6</td><td>Windows 7 Professional Volume:GVLK</td></tr>",
                            "<tr><td>W82YF-2Q76Y-63HXB-FGJG9-GF7QX</td><td>6</td><td>Windows 7 ProfessionalE Volume:GVLK</td></tr>",
                            "<tr><td>MRPKT-YTG23-K7D7T-X2JMM-QY7MG</td><td>6</td><td>Windows 7 ProfessionalN Volume:GVLK</td></tr>",
                            "<tr><td>7XKNG-JD7W3-TKFJX-VFMVY-KD49H</td><td>8</td><td>Windows Embedded Industry 8 RTM EmbeddedIndustry Retail:TB:Eval</td></tr>",
                            "<tr><td>RYXVT-BNQG7-VD29F-DBMRY-HT73M</td><td>6</td><td>Windows Embedded Industry 8 RTM EmbeddedIndustry Volume:GVLK</td></tr>",
                            "<tr><td>NKB3R-R2F8T-3XCDP-7Q2KW-XWYQ2</td><td>6</td><td>Windows Embedded Industry 8 RTM EmbeddedIndustryE Volume:GVLK</td></tr>",
                            "<tr><td>NMMPB-38DD4-R2823-62W8D-VXKJB</td><td>6</td><td>Windows Embedded Industry 8.1 RTM EmbeddedIndustry Volume:GVLK</td></tr>",
                            "<tr><td>27NCT-6DWB8-TTG3Y-9HR7P-6JD4M</td><td>6</td><td>Windows Embedded Industry 8.1 RTM EmbeddedIndustry Volume:GVLK</td></tr>",
                            "<tr><td>84BXD-CNDHY-4GDJJ-X63JW-VH42J</td><td>6</td><td>Windows Embedded Industry 8.1 RTM EmbeddedIndustryA Volume:GVLK</td></tr>",
                            "<tr><td>VHXM3-NR6FT-RY6RT-CK882-KW2CJ</td><td>6</td><td>Windows Embedded Industry 8.1 RTM EmbeddedIndustryA Volume:GVLK</td></tr>",
                            "<tr><td>FNFKF-PWTVT-9RC8H-32HB2-JB34X</td><td>6</td><td>Windows Embedded Industry 8.1 RTM EmbeddedIndustryE Volume:GVLK</td></tr>",
                            "<tr><td>VN3WH-49MTM-8G2XG-MJP4Q-9D6WK</td><td>6</td><td>Windows Embedded Industry 8.1 RTM EmbeddedIndustryE Volume:GVLK</td></tr>",
                            "<tr><td>YBYF6-BHCR3-JPKRB-CDW7B-F9BK4</td><td>6</td><td>Windows Embedded POSReady 7 POSReady Volume:GVLK</td></tr>",
                            "<tr><td>W3B2Q-MN6MQ-BCYF3-VGDWF-3C78C</td><td>8</td><td>Windows Embedded Standard 8 RC Embedded Retail:TB:Eval</td></tr>",
                            "<tr><td>JBYN8-BT6X6-4XB2G-P33V4-K4PR6</td><td>8</td><td>Windows Embedded Standard 8 RC EmbeddedE Retail:TB:Eval</td></tr>",
                            "<tr><td>NDDRT-KKVGM-D33R2-KR372-27G4Y</td><td>8</td><td>Windows Embedded Standard 8 RTM Embedded Retail:TB:Eval</td></tr>",
                            "<tr><td>9XGG6-9NYT7-8RQY6-FP7WK-GJDFY</td><td>8</td><td>Windows Embedded Standard 8 RTM Embedded Retail:TB:Eval</td></tr>",
                            "<tr><td>W3GGN-FT8W3-Y4M27-J84CP-Q3VJ9</td><td>6</td><td>Windows Server 12 R2 RTM ServerDatacenter Volume:GVLK</td></tr>",
                            "<tr><td>8NK82-6VX8B-26782-4H7M9-KP9CX</td><td>6</td><td>Windows Server 12 R2 RTM ServerDatacenter Volume:GVLK</td></tr>",
                            "<tr><td>4XN2G-KDTJX-DYGXT-9Q8CV-JQJGK</td><td>6</td><td>Windows Server 12 R2 RTM ServerDatacenter Volume:GVLK</td></tr>",
                            "<tr><td>D2N9P-3P6X9-2R39C-7RTCD-MDVJX</td><td>6</td><td>Windows Server 12 R2 RTM ServerStandard Volume:GVLK</td></tr>",
                            "<tr><td>RCTX3-KWVHP-BR6TB-RB6DM-6X7HP</td><td>6</td><td>Windows Server 2008 Compute Cluster GVLK</td></tr>",
                            "<tr><td>BHC4Q-6D7B7-QMVH7-4MKQH-Y9VK7</td><td>5</td><td>Windows Server 2008 Datacenter &amp; Itanium CSVLK</td></tr>",
                            "<tr><td>7M67G-PC374-GR742-YH8V4-TCBY3</td><td>6</td><td>Windows Server 2008 Datacenter GVLK</td></tr>",
                            "<tr><td>22XQ2-VRXRG-P8D42-K34TD-G3QQC</td><td>6</td><td>Windows Server 2008 DatacenterV GVLK</td></tr>",
                            "<tr><td>YQGMW-MPWTJ-34KDK-48M3W-X4Q6V</td><td>6</td><td>Windows Server 2008 Enterprise GVLK</td></tr>",
                            "<tr><td>39BXF-X8Q23-P2WWT-38T2F-G3FPG</td><td>6</td><td>Windows Server 2008 EnterpriseV GVLK</td></tr>",
                            "<tr><td>4DWFP-JF3DJ-B7DTH-78FJB-PDRHK</td><td>6</td><td>Windows Server 2008 Itanium GVLK</td></tr>",
                            "<tr><td>TM24T-X9RMF-VWXK6-X8JC9-BFGM2</td><td>6</td><td>Windows Server 2008 Standard GVLK</td></tr>",
                            "<tr><td>W7VD6-7JFBR-RX26B-YKQ3Y-6FFFJ</td><td>6</td><td>Windows Server 2008 StandardV GVLK</td></tr>",
                            "<tr><td>WYR28-R7TFJ-3X2YQ-YCY4H-M249D</td><td>6</td><td>Windows Server 2008 Web GVLK</td></tr>",
                            "<tr><td>37FTJ-GF9TX-P3GMR-R6C42-X3HP9</td><td>5</td><td>Windows Server 2012 R2 RTM ServerDatacenter;ServerStandard Volume:CSVLK</td></tr>",
                            "<tr><td>48HP8-DN98B-MYWDG-T2DCC-8W83P</td><td>6</td><td>Windows Server 2012 RTM ServerDatacenter Volume:GVLK</td></tr>",
                            "<tr><td>KM7FD-2WNWX-FMH2Y-43KXF-CRYT4</td><td>6</td><td>Windows Server 2012 RTM ServerStandard Volume:GVLK</td></tr>",
                            "<tr><td>XC9B7-NBPP2-83J2H-RHMBY-92BT4</td><td>6</td><td>Windows Server 2012 RTM ServerStandard Volume:GVLK</td></tr>",
                            "<tr><td>WNCYY-GFBH2-M4WTT-XQ2FP-PG2K9</td><td>6</td><td>Windows Server 2016 RTM ServerAzureCor Volume:GVLK</td></tr>",
                            "<tr><td>VP34G-4NPPG-79JTQ-864T4-R3MQX</td><td>6</td><td>Windows Server 2016 RTM ServerAzureCor Volume:GVLK</td></tr>",
                            "<tr><td>J34ND-TJJTV-HQR9M-7GK9P-TMVXT</td><td>6</td><td>Windows Server 2016 RTM ServerDatacenter Volume:GVLK</td></tr>",
                            "<tr><td>K97VN-B87KF-M4W9D-4HP74-2KDDG</td><td>6</td><td>Windows Server 2016 RTM ServerDatacenter Volume:GVLK</td></tr>",
                            "<tr><td>RYNGC-7H7T8-PFJ8K-B9JMR-9W39T</td><td>6</td><td>Windows Server 2016 RTM ServerDatacenter Volume:GVLK</td></tr>",
                            "<tr><td>CB7KF-BWN84-R7R2Y-793K2-8XDDG</td><td>6</td><td>Windows Server 2016 RTM ServerDatacenter Volume:GVLK</td></tr>",
                            "<tr><td>263NC-WD6PB-RVD74-G4RGB-39PHM</td><td>6</td><td>Windows Server 2016 RTM ServerStandard Volume:GVLK</td></tr>",
                            "<tr><td>TN2DT-HC3MB-MTD2R-H8C42-VFT3Y</td><td>6</td><td>Windows Server 2016 RTM ServerStandard Volume:GVLK</td></tr>",
                            "<tr><td>WC2BQ-8NRM3-FDDYY-2BFGV-KHKQY</td><td>6</td><td>Windows Server 2016 RTM ServerStandard Volume:GVLK</td></tr>",
                            "<tr><td>GRFBW-QNDC4-6QBHG-CCK3B-2PR88</td><td>6</td><td>Windows Server 2019 RTM ServerARM64 Volume:GVLK</td></tr>",
                            "<tr><td>2M3WR-NQW7W-7MX3H-TYCRD-8MBPW</td><td>6</td><td>Windows Server 2019 RTM ServerARM64 Volume:GVLK</td></tr>",
                            "<tr><td>FDNH6-VW9RW-BXPJ7-4XTYG-239TB</td><td>6</td><td>Windows Server 2019 RTM ServerAzureCor Volume:GVLK</td></tr>",
                            "<tr><td>VNJG3-QDK8Q-C3DPY-6HKRM-2PR8Y</td><td>6</td><td>Windows Server 2019 RTM ServerAzureCor Volume:GVLK</td></tr>",
                            "<tr><td>WMDGN-G9PQG-XVVXX-R3X43-63DFG</td><td>6</td><td>Windows Server 2019 RTM ServerDatacenter Volume:GVLK</td></tr>",
                            "<tr><td>PR3DM-NGHRJ-RXJQT-FFJPV-JQPH6</td><td>6</td><td>Windows Server 2019 RTM ServerDatacenter Volume:GVLK</td></tr>",
                            "<tr><td>TX3M3-HN6CW-2D8RM-QKCVK-WT3F3</td><td>6</td><td>Windows Server 2019 RTM ServerDatacenterACor Volume:GVLK</td></tr>",
                            "<tr><td>6NMRW-2C8FM-D24W7-TQWMY-CWH2D</td><td>6</td><td>Windows Server 2019 RTM ServerDatacenterACor Volume:GVLK</td></tr>",
                            "<tr><td>CPWHC-NT2C7-VYW78-DHDB2-PG3GK</td><td>6</td><td>Windows Server 2019 RTM ServerRdsh Volume:GVLK</td></tr>",
                            "<tr><td>VMKVQ-3MN6B-BVM9F-YWV97-R9FCX</td><td>6</td><td>Windows Server 2019 RTM ServerRdsh Volume:GVLK</td></tr>",
                            "<tr><td>N69G4-B89J2-4G8F4-WWYCC-J464C</td><td>6</td><td>Windows Server 2019 RTM ServerStandard Volume:GVLK</td></tr>",
                            "<tr><td>N76RK-Y8DB4-TCGMV-TB6JB-RC4BP</td><td>6</td><td>Windows Server 2019 RTM ServerStandard Volume:GVLK</td></tr>",
                            "<tr><td>N2KJX-J94YW-TQVFB-DG9YT-724CC</td><td>6</td><td>Windows Server 2019 RTM ServerStandardACor Volume:GVLK</td></tr>",
                            "<tr><td>PHN2T-WHKP4-X8RTQ-TD9TT-D3YPC</td><td>6</td><td>Windows Server 2019 RTM ServerStandardACor Volume:GVLK</td></tr>",
                            "<tr><td>NTBV8-9K7Q8-V27C6-M2BTV-KHMXV</td><td>6</td><td>Windows Server 2019 RTM ServerTurbine Volume:GVLK</td></tr>",
                            "<tr><td>FD8RN-MHFGM-VM69M-H9D67-94WFQ</td><td>6</td><td>Windows Server 2021 RTM ServerAzureCor Volume:GVLK</td></tr>",
                            "<tr><td>6N379-GGTMK-23C6M-XVVTC-CKFRQ</td><td>6</td><td>Windows Server 2021 RTM ServerAzureCor Volume:GVLK</td></tr>",
                            "<tr><td>WX4NM-KYWYW-QJJR4-XV3QB-6VM33</td><td>6</td><td>Windows Server 2021 RTM ServerDatacenter Volume:GVLK</td></tr>",
                            "<tr><td>YNVYH-P6CR8-GKP9K-29KYD-M7X77</td><td>6</td><td>Windows Server 2021 RTM ServerDatacenterACor Volume:GVLK</td></tr>",
                            "<tr><td>QFND9-D3Y9C-J3KKY-6RPVP-2DPYV</td><td>6</td><td>Windows Server 2021 RTM ServerDatacenterACor Volume:GVLK</td></tr>",
                            "<tr><td>8HFYN-J9P27-4CPWF-8YJYF-F63V4</td><td>8</td><td>Windows Server 2021 RTM ServerDatacenterEval Retail:TB:Eval</td></tr>",
                            "<tr><td>84NDK-M3JW4-PHYFH-CM7GR-6Q9TF</td><td>8</td><td>Windows Server 2021 RTM ServerDatacenterEvalCor Retail:TB:Eval</td></tr>",
                            "<tr><td>VDYBN-27WPP-V4HQT-9VMD4-VMK7H</td><td>6</td><td>Windows Server 2021 RTM ServerStandard Volume:GVLK</td></tr>",
                            "<tr><td>67KN8-4FYJW-2487Q-MQ2J7-4C4RG</td><td>6</td><td>Windows Server 2021 RTM ServerStandardACor Volume:GVLK</td></tr>",
                            "<tr><td>4PV9K-NRWQ6-HJ8FV-B68XJ-DGRRG</td><td>6</td><td>Windows Server 2021 RTM ServerStandardACor Volume:GVLK</td></tr>",
                            "<tr><td>C6NT2-9VP7V-64KKG-CT2GW-7FWDY</td><td>8</td><td>Windows Server 2021 RTM ServerStandardEval Retail:TB:Eval</td></tr>",
                            "<tr><td>NX6TT-WH4BH-CJC2P-M98B8-33YPV</td><td>8</td><td>Windows Server 2021 RTM ServerStandardEvalCor Retail:TB:Eval</td></tr>",
                            "<tr><td>D764K-2NDRG-47T6Q-P8T8W-YP6DF</td><td>6</td><td>Windows Server 2025 RTM ServerDatacenter Volume:GVLK</td></tr>",
                            "<tr><td>CNFDQ-2BW8H-9V4WM-TKCPD-MD2QF</td><td>6</td><td>Windows Server 2025 RTM ServerDatacenter Volume:GVLK</td></tr>",
                            "<tr><td>TVRH6-WHNXV-R9WG3-9XRFY-MY832</td><td>6</td><td>Windows Server 2025 RTM ServerStandard Volume:GVLK</td></tr>",
                            "<tr><td>XGN3F-F394H-FD2MY-PP6FD-8MCRC</td><td>6</td><td>Windows Server 2025 RTM ServerTurbine Volume:GVLK</td></tr>",
                            "<tr><td>R9N79-23MWD-MBP9B-KHF8Q-C36WX</td><td>8</td><td>Windows Server Essentials 2012 R2 RTM ServerSolution Retail:TB:Eval</td></tr>",
                            "<tr><td>DGNRX-VV6CG-R4FDC-QJ9Q2-6JD2B</td><td>6</td><td>Windows Server Essentials 2012 R2 RTM ServerSolution Volume:GVLK</td></tr>",
                            "<tr><td>KNC87-3J2TX-XB4WP-VCPJV-M4FWM</td><td>6</td><td>Windows Server Essentials 2012 R2 RTM ServerSolution Volume:GVLK</td></tr>",
                            "<tr><td>4NW26-CWYHB-HHMP9-4GB7Q-DV4WM</td><td>6</td><td>Windows Server Essentials 2012 R2 RTM ServerSolution Volume:GVLK</td></tr>",
                            "<tr><td>HTDQM-NBMMG-KGYDT-2DTKT-J2MPV</td><td>6</td><td>Windows Server Essentials 2012 RTM ServerSolution Volume:GVLK</td></tr>",
                            "<tr><td>JCKRF-N37P4-C2D82-9YXRT-4M63B</td><td>6</td><td>Windows Server Essentials 2016 RTM ServerSolution Volume:GVLK</td></tr>",
                            "<tr><td>98YNF-QCDGK-HC2PD-9C9FR-DJ39M</td><td>6</td><td>Windows Server Essentials 2016 RTM ServerSolution Volume:GVLK</td></tr>",
                            "<tr><td>WP7Y3-7NPCB-MKFTC-YJ2KJ-MTD9M</td><td>6</td><td>Windows Server Essentials 2016 RTM ServerSolution Volume:GVLK</td></tr>",
                            "<tr><td>WVDHN-86M7X-466P6-VHXV7-YY726</td><td>6</td><td>Windows Server Essentials 2019 RTM ServerSolution Volume:GVLK</td></tr>",
                            "<tr><td>7NBT4-WGBQX-MP4H7-QXFF8-YP3KX</td><td>6</td><td>Windows Server Next Beta ServerRdsh Volume:GVLK</td></tr>",
                            "<tr><td>2NCTC-KX62G-72P7B-G7QYW-29YT9</td><td>6</td><td>Windows Server Next Beta ServerRdsh Volume:GVLK</td></tr>",
                            "</table>"
                        ]
                    }
                }
            ],
            "execution_count": 16
        },
        {
            "cell_type": "markdown",
            "source": [
                "## Using `distinct` in `SELECT`\r\n",
                "\r\n",
                "Get all product that has a product key. Order by its name.\r\n",
                ""
            ],
            "metadata": {
                "azdata_cell_guid": "f81aa5f9-7272-47b6-9301-15f58f006c46"
            },
            "attachments": {}
        },
        {
            "cell_type": "code",
            "source": [
                "SELECT DISTINCT KeyDescription\r\n",
                "    FROM base.ProductKey\r\n",
                "    ORDER BY KeyDescription;"
            ],
            "metadata": {
                "azdata_cell_guid": "2d7a7a25-c96d-463f-9a25-3d3e050681f3",
                "language": "sql"
            },
            "outputs": [
                {
                    "output_type": "display_data",
                    "data": {
                        "text/html": "(259 rows affected)"
                    },
                    "metadata": {}
                },
                {
                    "output_type": "display_data",
                    "data": {
                        "text/html": "Total execution time: 00:00:00.011"
                    },
                    "metadata": {}
                },
                {
                    "output_type": "execute_result",
                    "metadata": {},
                    "execution_count": 21,
                    "data": {
                        "application/vnd.dataresource+json": {
                            "schema": {
                                "fields": [
                                    {
                                        "name": "KeyDescription"
                                    }
                                ]
                            },
                            "data": [
                                {
                                    "KeyDescription": "MultiPoint Server 2012 RTM ServerMultiPointPremium Volume:GVLK"
                                },
                                {
                                    "KeyDescription": "MultiPoint Server 2012 RTM ServerMultiPointStandard Volume:GVLK"
                                },
                                {
                                    "KeyDescription": "Multipoint Server Volume:GVLK"
                                },
                                {
                                    "KeyDescription": "Office15_AccessVL_KMS_Client"
                                },
                                {
                                    "KeyDescription": "Office15_Alpha_AccessVL_KMS_Client"
                                },
                                {
                                    "KeyDescription": "Office15_Alpha_ExcelVL_KMS_Client"
                                },
                                {
                                    "KeyDescription": "Office15_Alpha_GrooveVL_KMS_Client"
                                },
                                {
                                    "KeyDescription": "Office15_Alpha_InfoPathVL_KMS_Client"
                                },
                                {
                                    "KeyDescription": "Office15_Alpha_LyncVL_KMS_Client"
                                },
                                {
                                    "KeyDescription": "Office15_Alpha_MondoVL_KMS_Client"
                                },
                                {
                                    "KeyDescription": "Office15_Alpha_OneNoteVL_KMS_Client"
                                },
                                {
                                    "KeyDescription": "Office15_Alpha_OutlookVL_KMS_Client"
                                },
                                {
                                    "KeyDescription": "Office15_Alpha_PowerPointVL_KMS_Client"
                                },
                                {
                                    "KeyDescription": "Office15_Alpha_ProjectProVL_KMS_Client"
                                },
                                {
                                    "KeyDescription": "Office15_Alpha_ProjectStdVL_KMS_Client"
                                },
                                {
                                    "KeyDescription": "Office15_Alpha_ProPlusVL_KMS_Client"
                                },
                                {
                                    "KeyDescription": "Office15_Alpha_PublisherVL_KMS_Client"
                                },
                                {
                                    "KeyDescription": "Office15_Alpha_VisioProVL_KMS_Client"
                                },
                                {
                                    "KeyDescription": "Office15_Alpha_VisioStdVL_KMS_Client"
                                },
                                {
                                    "KeyDescription": "Office15_Alpha_WordVL_KMS_Client"
                                },
                                {
                                    "KeyDescription": "Office15_ExcelVL_KMS_Client"
                                },
                                {
                                    "KeyDescription": "Office15_GrooveVL_KMS_Client"
                                },
                                {
                                    "KeyDescription": "Office15_InfoPathVL_KMS_Client"
                                },
                                {
                                    "KeyDescription": "Office15_KMSHostVL_KMS_Host"
                                },
                                {
                                    "KeyDescription": "Office15_LyncVL_KMS_Client"
                                },
                                {
                                    "KeyDescription": "Office15_MondoR_KMS_Automation"
                                },
                                {
                                    "KeyDescription": "Office15_MondoVL_KMS_Client"
                                },
                                {
                                    "KeyDescription": "Office15_OneNoteVL_KMS_Client"
                                },
                                {
                                    "KeyDescription": "Office15_OutlookVL_KMS_Client"
                                },
                                {
                                    "KeyDescription": "Office15_PowerPointVL_KMS_Client"
                                },
                                {
                                    "KeyDescription": "Office15_ProjectProVL_KMS_Client"
                                },
                                {
                                    "KeyDescription": "Office15_ProjectStdVL_KMS_Client"
                                },
                                {
                                    "KeyDescription": "Office15_ProPlusR_Trial"
                                },
                                {
                                    "KeyDescription": "Office15_ProPlusVL_KMS_Client"
                                },
                                {
                                    "KeyDescription": "Office15_PublisherVL_KMS_Client"
                                },
                                {
                                    "KeyDescription": "Office15_StandardVL_KMS_Client"
                                },
                                {
                                    "KeyDescription": "Office15_VisioProR_Trial"
                                },
                                {
                                    "KeyDescription": "Office15_VisioProVL_KMS_Client"
                                },
                                {
                                    "KeyDescription": "Office15_VisioStdVL_KMS_Client"
                                },
                                {
                                    "KeyDescription": "Office15_WordVL_KMS_Client"
                                },
                                {
                                    "KeyDescription": "Office16_AccessVL_KMS_Client"
                                },
                                {
                                    "KeyDescription": "Office16_ExcelVL_KMS_Client"
                                },
                                {
                                    "KeyDescription": "Office16_MondoR_KMS_Automation"
                                },
                                {
                                    "KeyDescription": "Office16_MondoVL_KMS_Client"
                                },
                                {
                                    "KeyDescription": "Office16_O365HomePremR_Subscription4"
                                },
                                {
                                    "KeyDescription": "Office16_OneNoteVL_KMS_Client"
                                },
                                {
                                    "KeyDescription": "Office16_OutlookVL_KMS_Client"
                                },
                                {
                                    "KeyDescription": "Office16_PowerPointVL_KMS_Client"
                                },
                                {
                                    "KeyDescription": "Office16_ProjectProVL_KMS_Client"
                                },
                                {
                                    "KeyDescription": "Office16_ProjectProXC2RVL_KMS_ClientC2R"
                                },
                                {
                                    "KeyDescription": "Office16_ProjectStdVL_KMS_Client"
                                },
                                {
                                    "KeyDescription": "Office16_ProjectStdXC2RVL_KMS_ClientC2R"
                                },
                                {
                                    "KeyDescription": "Office16_ProPlusVL_KMS_Client"
                                },
                                {
                                    "KeyDescription": "Office16_PublisherVL_KMS_Client"
                                },
                                {
                                    "KeyDescription": "Office16_SkypeforBusinessVL_KMS_Client"
                                },
                                {
                                    "KeyDescription": "Office16_StandardVL_KMS_Client"
                                },
                                {
                                    "KeyDescription": "Office16_VisioProVL_KMS_Client"
                                },
                                {
                                    "KeyDescription": "Office16_VisioProXC2RVL_KMS_ClientC2R"
                                },
                                {
                                    "KeyDescription": "Office16_VisioStdVL_KMS_Client"
                                },
                                {
                                    "KeyDescription": "Office16_VisioStdXC2RVL_KMS_ClientC2R"
                                },
                                {
                                    "KeyDescription": "Office16_WordVL_KMS_Client"
                                },
                                {
                                    "KeyDescription": "Office19_Access2019VL_KMS_Client_AE"
                                },
                                {
                                    "KeyDescription": "Office19_Excel2019VL_KMS_Client_AE"
                                },
                                {
                                    "KeyDescription": "Office19_Outlook2019VL_KMS_Client_AE"
                                },
                                {
                                    "KeyDescription": "Office19_PowerPoint2019VL_KMS_Client_AE"
                                },
                                {
                                    "KeyDescription": "Office19_ProjectPro2019VL_KMS_Client_AE"
                                },
                                {
                                    "KeyDescription": "Office19_ProjectPro2019XC2RVL_KMS_ClientC2R"
                                },
                                {
                                    "KeyDescription": "Office19_ProjectStd2019VL_KMS_Client_AE"
                                },
                                {
                                    "KeyDescription": "Office19_ProPlus2019VL_KMS_Client_AE"
                                },
                                {
                                    "KeyDescription": "Office19_ProPlus2019XC2RVL_KMS_ClientC2R"
                                },
                                {
                                    "KeyDescription": "Office19_Publisher2019VL_KMS_Client_AE"
                                },
                                {
                                    "KeyDescription": "Office19_SkypeforBusiness2019VL_KMS_Client_AE"
                                },
                                {
                                    "KeyDescription": "Office19_Standard2019VL_KMS_Client_AE"
                                },
                                {
                                    "KeyDescription": "Office19_VisioPro2019VL_KMS_Client_AE"
                                },
                                {
                                    "KeyDescription": "Office19_VisioPro2019XC2RVL_KMS_ClientC2R"
                                },
                                {
                                    "KeyDescription": "Office19_VisioStd2019VL_KMS_Client_AE"
                                },
                                {
                                    "KeyDescription": "Office19_Word2019VL_KMS_Client_AE"
                                },
                                {
                                    "KeyDescription": "Office21_Access2021VL_KMS_Client_AE"
                                },
                                {
                                    "KeyDescription": "Office21_Excel2021VL_KMS_Client_AE"
                                },
                                {
                                    "KeyDescription": "Office21_Outlook2021VL_KMS_Client_AE"
                                },
                                {
                                    "KeyDescription": "Office21_PowerPoint2021VL_KMS_Client_AE"
                                },
                                {
                                    "KeyDescription": "Office21_ProjectPro2021PreviewVL_KMS_Client_AE"
                                },
                                {
                                    "KeyDescription": "Office21_ProjectPro2021VL_KMS_Client_AE"
                                },
                                {
                                    "KeyDescription": "Office21_ProjectStd2021VL_KMS_Client_AE"
                                },
                                {
                                    "KeyDescription": "Office21_ProPlus2021PreviewVL_KMS_Client_AE"
                                },
                                {
                                    "KeyDescription": "Office21_ProPlus2021VL_KMS_Client_AE"
                                },
                                {
                                    "KeyDescription": "Office21_Publisher2021VL_KMS_Client_AE"
                                },
                                {
                                    "KeyDescription": "Office21_SkypeforBusiness2021VL_KMS_Client_AE"
                                },
                                {
                                    "KeyDescription": "Office21_Standard2021VL_KMS_Client_AE"
                                },
                                {
                                    "KeyDescription": "Office21_VisioPro2021PreviewVL_KMS_Client_AE"
                                },
                                {
                                    "KeyDescription": "Office21_VisioPro2021VL_KMS_Client_AE"
                                },
                                {
                                    "KeyDescription": "Office21_VisioStd2021VL_KMS_Client_AE"
                                },
                                {
                                    "KeyDescription": "Office21_Word2021VL_KMS_Client_AE"
                                },
                                {
                                    "KeyDescription": "RTM_Access_KMS_Client"
                                },
                                {
                                    "KeyDescription": "RTM_Excel_KMS_Client"
                                },
                                {
                                    "KeyDescription": "RTM_Groove_KMS_Client"
                                },
                                {
                                    "KeyDescription": "RTM_InfoPath_KMS_Client"
                                },
                                {
                                    "KeyDescription": "RTM_Mondo_KMS_Client"
                                },
                                {
                                    "KeyDescription": "RTM_Mondo_KMS_Client2"
                                },
                                {
                                    "KeyDescription": "RTM_OneNote_KMS_Client"
                                },
                                {
                                    "KeyDescription": "RTM_Outlook_KMS_Client"
                                },
                                {
                                    "KeyDescription": "RTM_PowerPoint_KMS_Client"
                                },
                                {
                                    "KeyDescription": "RTM_ProjectPro_KMS_Client"
                                },
                                {
                                    "KeyDescription": "RTM_ProjectStd_KMS_Client"
                                },
                                {
                                    "KeyDescription": "RTM_ProPlus_KMS_Client"
                                },
                                {
                                    "KeyDescription": "RTM_Publisher_KMS_Client"
                                },
                                {
                                    "KeyDescription": "RTM_SmallBusBasics_KMS_Client"
                                },
                                {
                                    "KeyDescription": "RTM_Standard_KMS_Client"
                                },
                                {
                                    "KeyDescription": "RTM_VisioPrem_KMS_Client"
                                },
                                {
                                    "KeyDescription": "RTM_VisioPro_KMS_Client"
                                },
                                {
                                    "KeyDescription": "RTM_VisioStd_KMS_Client"
                                },
                                {
                                    "KeyDescription": "RTM_Word_KMS_Client"
                                },
                                {
                                    "KeyDescription": "Server 2008 R2 Compute Cluster (HPC) Volume:GVLK"
                                },
                                {
                                    "KeyDescription": "Server 2008 R2 Datacenter Volume:GVLK"
                                },
                                {
                                    "KeyDescription": "Server 2008 R2 Enterprise IA64 Volume:GVLK"
                                },
                                {
                                    "KeyDescription": "Server 2008 R2 Enterprise Volume:GVLK"
                                },
                                {
                                    "KeyDescription": "Server 2008 R2 Standard Volume:GVLK"
                                },
                                {
                                    "KeyDescription": "Server 2008 R2 Web Volume:GVLK"
                                },
                                {
                                    "KeyDescription": "ServerCloudStorage 12 R2 RTM ServerCloudStorage Volume:GVLK"
                                },
                                {
                                    "KeyDescription": "ServerCloudStorage 2016 RTM ServerCloudStorage Volume:GVLK"
                                },
                                {
                                    "KeyDescription": "Win 10 Pre-Release Core Volume:GVLK"
                                },
                                {
                                    "KeyDescription": "Win 10 Pre-Release CoreCountrySpecific Volume:GVLK"
                                },
                                {
                                    "KeyDescription": "Win 10 Pre-Release CoreN Volume:GVLK"
                                },
                                {
                                    "KeyDescription": "Win 10 Pre-Release CoreSingleLanguage Volume:GVLK"
                                },
                                {
                                    "KeyDescription": "Win 10 Pre-Release Education Volume:GVLK"
                                },
                                {
                                    "KeyDescription": "Win 10 Pre-Release EducationN Volume:GVLK"
                                },
                                {
                                    "KeyDescription": "Win 10 Pre-Release Enterprise Volume:GVLK"
                                },
                                {
                                    "KeyDescription": "Win 10 Pre-Release EnterpriseN Volume:GVLK"
                                },
                                {
                                    "KeyDescription": "Win 10 Pre-Release EnterpriseS Volume:GVLK"
                                },
                                {
                                    "KeyDescription": "Win 10 Pre-Release EnterpriseSN Volume:GVLK"
                                },
                                {
                                    "KeyDescription": "Win 10 Pre-Release PPIPro Volume:GVLK"
                                },
                                {
                                    "KeyDescription": "Win 10 Pre-Release Professional Volume:GVLK"
                                },
                                {
                                    "KeyDescription": "Win 10 Pre-Release ProfessionalN Volume:GVLK"
                                },
                                {
                                    "KeyDescription": "Win 10 RTM CloudE Volume:GVLK"
                                },
                                {
                                    "KeyDescription": "Win 10 RTM CloudEdition Volume:GVLK"
                                },
                                {
                                    "KeyDescription": "Win 10 RTM CloudEditionN Volume:GVLK"
                                },
                                {
                                    "KeyDescription": "Win 10 RTM Core Volume:GVLK"
                                },
                                {
                                    "KeyDescription": "Win 10 RTM CoreCountrySpecific Volume:GVLK"
                                },
                                {
                                    "KeyDescription": "Win 10 RTM CoreN Volume:GVLK"
                                },
                                {
                                    "KeyDescription": "Win 10 RTM CoreSingleLanguage Volume:GVLK"
                                },
                                {
                                    "KeyDescription": "Win 10 RTM Education Volume:GVLK"
                                },
                                {
                                    "KeyDescription": "Win 10 RTM EducationN Volume:GVLK"
                                },
                                {
                                    "KeyDescription": "Win 10 RTM Enterprise Volume:GVLK"
                                },
                                {
                                    "KeyDescription": "Win 10 RTM Enterprise;EnterpriseN;Professional;ProfessionalN;EnterpriseS;EnterpriseSN;Education;EducationN;ProfessionalWorkstation;ProfessionalWorkstationN Volume:CSVLK"
                                },
                                {
                                    "KeyDescription": "Win 10 RTM Enterprise;EnterpriseN;Professional;ProfessionalN;EnterpriseS;EnterpriseSN;Education;EducationN;ProfessionalWorkstation;ProfessionalWorkstationN Volume:CSVLK VL Additional Lab"
                                },
                                {
                                    "KeyDescription": "Win 10 RTM EnterpriseEval Retail:TB:Eval"
                                },
                                {
                                    "KeyDescription": "Win 10 RTM EnterpriseG Volume:GVLK"
                                },
                                {
                                    "KeyDescription": "Win 10 RTM EnterpriseGN Volume:GVLK"
                                },
                                {
                                    "KeyDescription": "Win 10 RTM EnterpriseN Volume:GVLK"
                                },
                                {
                                    "KeyDescription": "Win 10 RTM EnterpriseNEval Retail:TB:Eval"
                                },
                                {
                                    "KeyDescription": "Win 10 RTM EnterpriseS Volume:GVLK"
                                },
                                {
                                    "KeyDescription": "Win 10 RTM EnterpriseSEval Retail:TB:Eval"
                                },
                                {
                                    "KeyDescription": "Win 10 RTM EnterpriseSN Volume:GVLK"
                                },
                                {
                                    "KeyDescription": "Win 10 RTM EnterpriseSNEval Retail:TB:Eval"
                                },
                                {
                                    "KeyDescription": "Win 10 RTM Professional Volume:GVLK"
                                },
                                {
                                    "KeyDescription": "Win 10 RTM ProfessionalEducation Volume:GVLK"
                                },
                                {
                                    "KeyDescription": "Win 10 RTM ProfessionalEducationN Volume:GVLK"
                                },
                                {
                                    "KeyDescription": "Win 10 RTM ProfessionalN Volume:GVLK"
                                },
                                {
                                    "KeyDescription": "Win 10 RTM ProfessionalWorkstation Volume:GVLK"
                                },
                                {
                                    "KeyDescription": "Win 10 RTM ProfessionalWorkstationN Volume:GVLK"
                                },
                                {
                                    "KeyDescription": "Win 11 RTM IoTEnterpriseS Volume:GVLK"
                                },
                                {
                                    "KeyDescription": "Win 8 RTM Core Volume:GVLK"
                                },
                                {
                                    "KeyDescription": "Win 8 RTM CoreARM Volume:GVLK"
                                },
                                {
                                    "KeyDescription": "Win 8 RTM CoreCountrySpecific Volume:GVLK"
                                },
                                {
                                    "KeyDescription": "Win 8 RTM CoreN Volume:GVLK"
                                },
                                {
                                    "KeyDescription": "Win 8 RTM CoreSingleLanguage Volume:GVLK"
                                },
                                {
                                    "KeyDescription": "Win 8 RTM Enterprise Volume:GVLK"
                                },
                                {
                                    "KeyDescription": "Win 8 RTM Enterprise;EnterpriseN;Professional;ProfessionalN Volume:CSVLK"
                                },
                                {
                                    "KeyDescription": "Win 8 RTM EnterpriseEval Retail:TB:Eval"
                                },
                                {
                                    "KeyDescription": "Win 8 RTM EnterpriseN Volume:GVLK"
                                },
                                {
                                    "KeyDescription": "Win 8 RTM Professional Volume:GVLK"
                                },
                                {
                                    "KeyDescription": "Win 8 RTM ProfessionalN Volume:GVLK"
                                },
                                {
                                    "KeyDescription": "Win 8 RTM ProfessionalWMC Volume:GVLK"
                                },
                                {
                                    "KeyDescription": "Win 8.1 RTM Core Volume:GVLK"
                                },
                                {
                                    "KeyDescription": "Win 8.1 RTM CoreARM Volume:GVLK"
                                },
                                {
                                    "KeyDescription": "Win 8.1 RTM CoreConnected Volume:GVLK"
                                },
                                {
                                    "KeyDescription": "Win 8.1 RTM CoreConnectedCountrySpecific Volume:GVLK"
                                },
                                {
                                    "KeyDescription": "Win 8.1 RTM CoreConnectedN Volume:GVLK"
                                },
                                {
                                    "KeyDescription": "Win 8.1 RTM CoreConnectedSingleLanguage Volume:GVLK"
                                },
                                {
                                    "KeyDescription": "Win 8.1 RTM CoreCountrySpecific Volume:GVLK"
                                },
                                {
                                    "KeyDescription": "Win 8.1 RTM CoreN Volume:GVLK"
                                },
                                {
                                    "KeyDescription": "Win 8.1 RTM CoreSingleLanguage Volume:GVLK"
                                },
                                {
                                    "KeyDescription": "Win 8.1 RTM Enterprise Volume:GVLK"
                                },
                                {
                                    "KeyDescription": "Win 8.1 RTM Enterprise;EnterpriseN;Professional;ProfessionalN Volume:CSVLK"
                                },
                                {
                                    "KeyDescription": "Win 8.1 RTM EnterpriseN Volume:GVLK"
                                },
                                {
                                    "KeyDescription": "Win 8.1 RTM Professional Volume:GVLK"
                                },
                                {
                                    "KeyDescription": "Win 8.1 RTM ProfessionalN Volume:GVLK"
                                },
                                {
                                    "KeyDescription": "Win 8.1 RTM ProfessionalStudent Volume:GVLK"
                                },
                                {
                                    "KeyDescription": "Win 8.1 RTM ProfessionalStudentN Volume:GVLK"
                                },
                                {
                                    "KeyDescription": "Win 8.1 RTM ProfessionalWMC Volume:GVLK"
                                },
                                {
                                    "KeyDescription": "Windows 7 All Volume Editions Volume:CSVLK"
                                },
                                {
                                    "KeyDescription": "Windows 7 Enterprise Volume:GVLK"
                                },
                                {
                                    "KeyDescription": "Windows 7 EnterpriseE Volume:GVLK"
                                },
                                {
                                    "KeyDescription": "Windows 7 EnterpriseN Volume:GVLK"
                                },
                                {
                                    "KeyDescription": "Windows 7 Professional Volume:GVLK"
                                },
                                {
                                    "KeyDescription": "Windows 7 ProfessionalE Volume:GVLK"
                                },
                                {
                                    "KeyDescription": "Windows 7 ProfessionalN Volume:GVLK"
                                },
                                {
                                    "KeyDescription": "Windows Embedded Industry 8 RTM EmbeddedIndustry Retail:TB:Eval"
                                },
                                {
                                    "KeyDescription": "Windows Embedded Industry 8 RTM EmbeddedIndustry Volume:GVLK"
                                },
                                {
                                    "KeyDescription": "Windows Embedded Industry 8 RTM EmbeddedIndustryE Volume:GVLK"
                                },
                                {
                                    "KeyDescription": "Windows Embedded Industry 8.1 RTM EmbeddedIndustry Volume:GVLK"
                                },
                                {
                                    "KeyDescription": "Windows Embedded Industry 8.1 RTM EmbeddedIndustryA Volume:GVLK"
                                },
                                {
                                    "KeyDescription": "Windows Embedded Industry 8.1 RTM EmbeddedIndustryE Volume:GVLK"
                                },
                                {
                                    "KeyDescription": "Windows Embedded POSReady 7 POSReady Volume:GVLK"
                                },
                                {
                                    "KeyDescription": "Windows Embedded Standard 8 RC Embedded Retail:TB:Eval"
                                },
                                {
                                    "KeyDescription": "Windows Embedded Standard 8 RC EmbeddedE Retail:TB:Eval"
                                },
                                {
                                    "KeyDescription": "Windows Embedded Standard 8 RTM Embedded Retail:TB:Eval"
                                },
                                {
                                    "KeyDescription": "Windows Server 12 R2 RTM ServerDatacenter Volume:GVLK"
                                },
                                {
                                    "KeyDescription": "Windows Server 12 R2 RTM ServerStandard Volume:GVLK"
                                },
                                {
                                    "KeyDescription": "Windows Server 2008 Compute Cluster GVLK"
                                },
                                {
                                    "KeyDescription": "Windows Server 2008 Datacenter & Itanium CSVLK"
                                },
                                {
                                    "KeyDescription": "Windows Server 2008 Datacenter GVLK"
                                },
                                {
                                    "KeyDescription": "Windows Server 2008 DatacenterV GVLK"
                                },
                                {
                                    "KeyDescription": "Windows Server 2008 Enterprise GVLK"
                                },
                                {
                                    "KeyDescription": "Windows Server 2008 EnterpriseV GVLK"
                                },
                                {
                                    "KeyDescription": "Windows Server 2008 Itanium GVLK"
                                },
                                {
                                    "KeyDescription": "Windows Server 2008 Standard GVLK"
                                },
                                {
                                    "KeyDescription": "Windows Server 2008 StandardV GVLK"
                                },
                                {
                                    "KeyDescription": "Windows Server 2008 Web GVLK"
                                },
                                {
                                    "KeyDescription": "Windows Server 2012 R2 RTM ServerDatacenter;ServerStandard Volume:CSVLK"
                                },
                                {
                                    "KeyDescription": "Windows Server 2012 RTM ServerDatacenter Volume:GVLK"
                                },
                                {
                                    "KeyDescription": "Windows Server 2012 RTM ServerStandard Volume:GVLK"
                                },
                                {
                                    "KeyDescription": "Windows Server 2016 RTM ServerAzureCor Volume:GVLK"
                                },
                                {
                                    "KeyDescription": "Windows Server 2016 RTM ServerDatacenter Volume:GVLK"
                                },
                                {
                                    "KeyDescription": "Windows Server 2016 RTM ServerStandard Volume:GVLK"
                                },
                                {
                                    "KeyDescription": "Windows Server 2019 RTM ServerARM64 Volume:GVLK"
                                },
                                {
                                    "KeyDescription": "Windows Server 2019 RTM ServerAzureCor Volume:GVLK"
                                },
                                {
                                    "KeyDescription": "Windows Server 2019 RTM ServerDatacenter Volume:GVLK"
                                },
                                {
                                    "KeyDescription": "Windows Server 2019 RTM ServerDatacenterACor Volume:GVLK"
                                },
                                {
                                    "KeyDescription": "Windows Server 2019 RTM ServerRdsh Volume:GVLK"
                                },
                                {
                                    "KeyDescription": "Windows Server 2019 RTM ServerStandard Volume:GVLK"
                                },
                                {
                                    "KeyDescription": "Windows Server 2019 RTM ServerStandardACor Volume:GVLK"
                                },
                                {
                                    "KeyDescription": "Windows Server 2019 RTM ServerTurbine Volume:GVLK"
                                },
                                {
                                    "KeyDescription": "Windows Server 2021 RTM ServerAzureCor Volume:GVLK"
                                },
                                {
                                    "KeyDescription": "Windows Server 2021 RTM ServerDatacenter Volume:GVLK"
                                },
                                {
                                    "KeyDescription": "Windows Server 2021 RTM ServerDatacenterACor Volume:GVLK"
                                },
                                {
                                    "KeyDescription": "Windows Server 2021 RTM ServerDatacenterEval Retail:TB:Eval"
                                },
                                {
                                    "KeyDescription": "Windows Server 2021 RTM ServerDatacenterEvalCor Retail:TB:Eval"
                                },
                                {
                                    "KeyDescription": "Windows Server 2021 RTM ServerStandard Volume:GVLK"
                                },
                                {
                                    "KeyDescription": "Windows Server 2021 RTM ServerStandardACor Volume:GVLK"
                                },
                                {
                                    "KeyDescription": "Windows Server 2021 RTM ServerStandardEval Retail:TB:Eval"
                                },
                                {
                                    "KeyDescription": "Windows Server 2021 RTM ServerStandardEvalCor Retail:TB:Eval"
                                },
                                {
                                    "KeyDescription": "Windows Server 2025 RTM ServerDatacenter Volume:GVLK"
                                },
                                {
                                    "KeyDescription": "Windows Server 2025 RTM ServerStandard Volume:GVLK"
                                },
                                {
                                    "KeyDescription": "Windows Server 2025 RTM ServerTurbine Volume:GVLK"
                                },
                                {
                                    "KeyDescription": "Windows Server Essentials 2012 R2 RTM ServerSolution Retail:TB:Eval"
                                },
                                {
                                    "KeyDescription": "Windows Server Essentials 2012 R2 RTM ServerSolution Volume:GVLK"
                                },
                                {
                                    "KeyDescription": "Windows Server Essentials 2012 RTM ServerSolution Volume:GVLK"
                                },
                                {
                                    "KeyDescription": "Windows Server Essentials 2016 RTM ServerSolution Volume:GVLK"
                                },
                                {
                                    "KeyDescription": "Windows Server Essentials 2019 RTM ServerSolution Volume:GVLK"
                                },
                                {
                                    "KeyDescription": "Windows Server Next Beta ServerRdsh Volume:GVLK"
                                },
                                {
                                    "KeyDescription": "Windows Thin PC Embedded Volume:GVLK"
                                },
                                {
                                    "KeyDescription": "Windows Vista Business - GVLK"
                                },
                                {
                                    "KeyDescription": "Windows Vista Business N - GVLK"
                                },
                                {
                                    "KeyDescription": "Windows Vista Enterprise - GVLK"
                                },
                                {
                                    "KeyDescription": "Windows Vista EnterpriseN GVLK"
                                },
                                {
                                    "KeyDescription": "WinServer Next ServerDatacenter Volume:GVLK"
                                },
                                {
                                    "KeyDescription": "WinServer Next ServerStandard Volume:GVLK"
                                },
                                {
                                    "KeyDescription": "WinServer Next ServerWeb Volume:GVLK"
                                }
                            ]
                        },
                        "text/html": [
                            "<table>",
                            "<tr><th>KeyDescription</th></tr>",
                            "<tr><td>MultiPoint Server 2012 RTM ServerMultiPointPremium Volume:GVLK</td></tr>",
                            "<tr><td>MultiPoint Server 2012 RTM ServerMultiPointStandard Volume:GVLK</td></tr>",
                            "<tr><td>Multipoint Server Volume:GVLK</td></tr>",
                            "<tr><td>Office15_AccessVL_KMS_Client</td></tr>",
                            "<tr><td>Office15_Alpha_AccessVL_KMS_Client</td></tr>",
                            "<tr><td>Office15_Alpha_ExcelVL_KMS_Client</td></tr>",
                            "<tr><td>Office15_Alpha_GrooveVL_KMS_Client</td></tr>",
                            "<tr><td>Office15_Alpha_InfoPathVL_KMS_Client</td></tr>",
                            "<tr><td>Office15_Alpha_LyncVL_KMS_Client</td></tr>",
                            "<tr><td>Office15_Alpha_MondoVL_KMS_Client</td></tr>",
                            "<tr><td>Office15_Alpha_OneNoteVL_KMS_Client</td></tr>",
                            "<tr><td>Office15_Alpha_OutlookVL_KMS_Client</td></tr>",
                            "<tr><td>Office15_Alpha_PowerPointVL_KMS_Client</td></tr>",
                            "<tr><td>Office15_Alpha_ProjectProVL_KMS_Client</td></tr>",
                            "<tr><td>Office15_Alpha_ProjectStdVL_KMS_Client</td></tr>",
                            "<tr><td>Office15_Alpha_ProPlusVL_KMS_Client</td></tr>",
                            "<tr><td>Office15_Alpha_PublisherVL_KMS_Client</td></tr>",
                            "<tr><td>Office15_Alpha_VisioProVL_KMS_Client</td></tr>",
                            "<tr><td>Office15_Alpha_VisioStdVL_KMS_Client</td></tr>",
                            "<tr><td>Office15_Alpha_WordVL_KMS_Client</td></tr>",
                            "<tr><td>Office15_ExcelVL_KMS_Client</td></tr>",
                            "<tr><td>Office15_GrooveVL_KMS_Client</td></tr>",
                            "<tr><td>Office15_InfoPathVL_KMS_Client</td></tr>",
                            "<tr><td>Office15_KMSHostVL_KMS_Host</td></tr>",
                            "<tr><td>Office15_LyncVL_KMS_Client</td></tr>",
                            "<tr><td>Office15_MondoR_KMS_Automation</td></tr>",
                            "<tr><td>Office15_MondoVL_KMS_Client</td></tr>",
                            "<tr><td>Office15_OneNoteVL_KMS_Client</td></tr>",
                            "<tr><td>Office15_OutlookVL_KMS_Client</td></tr>",
                            "<tr><td>Office15_PowerPointVL_KMS_Client</td></tr>",
                            "<tr><td>Office15_ProjectProVL_KMS_Client</td></tr>",
                            "<tr><td>Office15_ProjectStdVL_KMS_Client</td></tr>",
                            "<tr><td>Office15_ProPlusR_Trial</td></tr>",
                            "<tr><td>Office15_ProPlusVL_KMS_Client</td></tr>",
                            "<tr><td>Office15_PublisherVL_KMS_Client</td></tr>",
                            "<tr><td>Office15_StandardVL_KMS_Client</td></tr>",
                            "<tr><td>Office15_VisioProR_Trial</td></tr>",
                            "<tr><td>Office15_VisioProVL_KMS_Client</td></tr>",
                            "<tr><td>Office15_VisioStdVL_KMS_Client</td></tr>",
                            "<tr><td>Office15_WordVL_KMS_Client</td></tr>",
                            "<tr><td>Office16_AccessVL_KMS_Client</td></tr>",
                            "<tr><td>Office16_ExcelVL_KMS_Client</td></tr>",
                            "<tr><td>Office16_MondoR_KMS_Automation</td></tr>",
                            "<tr><td>Office16_MondoVL_KMS_Client</td></tr>",
                            "<tr><td>Office16_O365HomePremR_Subscription4</td></tr>",
                            "<tr><td>Office16_OneNoteVL_KMS_Client</td></tr>",
                            "<tr><td>Office16_OutlookVL_KMS_Client</td></tr>",
                            "<tr><td>Office16_PowerPointVL_KMS_Client</td></tr>",
                            "<tr><td>Office16_ProjectProVL_KMS_Client</td></tr>",
                            "<tr><td>Office16_ProjectProXC2RVL_KMS_ClientC2R</td></tr>",
                            "<tr><td>Office16_ProjectStdVL_KMS_Client</td></tr>",
                            "<tr><td>Office16_ProjectStdXC2RVL_KMS_ClientC2R</td></tr>",
                            "<tr><td>Office16_ProPlusVL_KMS_Client</td></tr>",
                            "<tr><td>Office16_PublisherVL_KMS_Client</td></tr>",
                            "<tr><td>Office16_SkypeforBusinessVL_KMS_Client</td></tr>",
                            "<tr><td>Office16_StandardVL_KMS_Client</td></tr>",
                            "<tr><td>Office16_VisioProVL_KMS_Client</td></tr>",
                            "<tr><td>Office16_VisioProXC2RVL_KMS_ClientC2R</td></tr>",
                            "<tr><td>Office16_VisioStdVL_KMS_Client</td></tr>",
                            "<tr><td>Office16_VisioStdXC2RVL_KMS_ClientC2R</td></tr>",
                            "<tr><td>Office16_WordVL_KMS_Client</td></tr>",
                            "<tr><td>Office19_Access2019VL_KMS_Client_AE</td></tr>",
                            "<tr><td>Office19_Excel2019VL_KMS_Client_AE</td></tr>",
                            "<tr><td>Office19_Outlook2019VL_KMS_Client_AE</td></tr>",
                            "<tr><td>Office19_PowerPoint2019VL_KMS_Client_AE</td></tr>",
                            "<tr><td>Office19_ProjectPro2019VL_KMS_Client_AE</td></tr>",
                            "<tr><td>Office19_ProjectPro2019XC2RVL_KMS_ClientC2R</td></tr>",
                            "<tr><td>Office19_ProjectStd2019VL_KMS_Client_AE</td></tr>",
                            "<tr><td>Office19_ProPlus2019VL_KMS_Client_AE</td></tr>",
                            "<tr><td>Office19_ProPlus2019XC2RVL_KMS_ClientC2R</td></tr>",
                            "<tr><td>Office19_Publisher2019VL_KMS_Client_AE</td></tr>",
                            "<tr><td>Office19_SkypeforBusiness2019VL_KMS_Client_AE</td></tr>",
                            "<tr><td>Office19_Standard2019VL_KMS_Client_AE</td></tr>",
                            "<tr><td>Office19_VisioPro2019VL_KMS_Client_AE</td></tr>",
                            "<tr><td>Office19_VisioPro2019XC2RVL_KMS_ClientC2R</td></tr>",
                            "<tr><td>Office19_VisioStd2019VL_KMS_Client_AE</td></tr>",
                            "<tr><td>Office19_Word2019VL_KMS_Client_AE</td></tr>",
                            "<tr><td>Office21_Access2021VL_KMS_Client_AE</td></tr>",
                            "<tr><td>Office21_Excel2021VL_KMS_Client_AE</td></tr>",
                            "<tr><td>Office21_Outlook2021VL_KMS_Client_AE</td></tr>",
                            "<tr><td>Office21_PowerPoint2021VL_KMS_Client_AE</td></tr>",
                            "<tr><td>Office21_ProjectPro2021PreviewVL_KMS_Client_AE</td></tr>",
                            "<tr><td>Office21_ProjectPro2021VL_KMS_Client_AE</td></tr>",
                            "<tr><td>Office21_ProjectStd2021VL_KMS_Client_AE</td></tr>",
                            "<tr><td>Office21_ProPlus2021PreviewVL_KMS_Client_AE</td></tr>",
                            "<tr><td>Office21_ProPlus2021VL_KMS_Client_AE</td></tr>",
                            "<tr><td>Office21_Publisher2021VL_KMS_Client_AE</td></tr>",
                            "<tr><td>Office21_SkypeforBusiness2021VL_KMS_Client_AE</td></tr>",
                            "<tr><td>Office21_Standard2021VL_KMS_Client_AE</td></tr>",
                            "<tr><td>Office21_VisioPro2021PreviewVL_KMS_Client_AE</td></tr>",
                            "<tr><td>Office21_VisioPro2021VL_KMS_Client_AE</td></tr>",
                            "<tr><td>Office21_VisioStd2021VL_KMS_Client_AE</td></tr>",
                            "<tr><td>Office21_Word2021VL_KMS_Client_AE</td></tr>",
                            "<tr><td>RTM_Access_KMS_Client</td></tr>",
                            "<tr><td>RTM_Excel_KMS_Client</td></tr>",
                            "<tr><td>RTM_Groove_KMS_Client</td></tr>",
                            "<tr><td>RTM_InfoPath_KMS_Client</td></tr>",
                            "<tr><td>RTM_Mondo_KMS_Client</td></tr>",
                            "<tr><td>RTM_Mondo_KMS_Client2</td></tr>",
                            "<tr><td>RTM_OneNote_KMS_Client</td></tr>",
                            "<tr><td>RTM_Outlook_KMS_Client</td></tr>",
                            "<tr><td>RTM_PowerPoint_KMS_Client</td></tr>",
                            "<tr><td>RTM_ProjectPro_KMS_Client</td></tr>",
                            "<tr><td>RTM_ProjectStd_KMS_Client</td></tr>",
                            "<tr><td>RTM_ProPlus_KMS_Client</td></tr>",
                            "<tr><td>RTM_Publisher_KMS_Client</td></tr>",
                            "<tr><td>RTM_SmallBusBasics_KMS_Client</td></tr>",
                            "<tr><td>RTM_Standard_KMS_Client</td></tr>",
                            "<tr><td>RTM_VisioPrem_KMS_Client</td></tr>",
                            "<tr><td>RTM_VisioPro_KMS_Client</td></tr>",
                            "<tr><td>RTM_VisioStd_KMS_Client</td></tr>",
                            "<tr><td>RTM_Word_KMS_Client</td></tr>",
                            "<tr><td>Server 2008 R2 Compute Cluster (HPC) Volume:GVLK</td></tr>",
                            "<tr><td>Server 2008 R2 Datacenter Volume:GVLK</td></tr>",
                            "<tr><td>Server 2008 R2 Enterprise IA64 Volume:GVLK</td></tr>",
                            "<tr><td>Server 2008 R2 Enterprise Volume:GVLK</td></tr>",
                            "<tr><td>Server 2008 R2 Standard Volume:GVLK</td></tr>",
                            "<tr><td>Server 2008 R2 Web Volume:GVLK</td></tr>",
                            "<tr><td>ServerCloudStorage 12 R2 RTM ServerCloudStorage Volume:GVLK</td></tr>",
                            "<tr><td>ServerCloudStorage 2016 RTM ServerCloudStorage Volume:GVLK</td></tr>",
                            "<tr><td>Win 10 Pre-Release Core Volume:GVLK</td></tr>",
                            "<tr><td>Win 10 Pre-Release CoreCountrySpecific Volume:GVLK</td></tr>",
                            "<tr><td>Win 10 Pre-Release CoreN Volume:GVLK</td></tr>",
                            "<tr><td>Win 10 Pre-Release CoreSingleLanguage Volume:GVLK</td></tr>",
                            "<tr><td>Win 10 Pre-Release Education Volume:GVLK</td></tr>",
                            "<tr><td>Win 10 Pre-Release EducationN Volume:GVLK</td></tr>",
                            "<tr><td>Win 10 Pre-Release Enterprise Volume:GVLK</td></tr>",
                            "<tr><td>Win 10 Pre-Release EnterpriseN Volume:GVLK</td></tr>",
                            "<tr><td>Win 10 Pre-Release EnterpriseS Volume:GVLK</td></tr>",
                            "<tr><td>Win 10 Pre-Release EnterpriseSN Volume:GVLK</td></tr>",
                            "<tr><td>Win 10 Pre-Release PPIPro Volume:GVLK</td></tr>",
                            "<tr><td>Win 10 Pre-Release Professional Volume:GVLK</td></tr>",
                            "<tr><td>Win 10 Pre-Release ProfessionalN Volume:GVLK</td></tr>",
                            "<tr><td>Win 10 RTM CloudE Volume:GVLK</td></tr>",
                            "<tr><td>Win 10 RTM CloudEdition Volume:GVLK</td></tr>",
                            "<tr><td>Win 10 RTM CloudEditionN Volume:GVLK</td></tr>",
                            "<tr><td>Win 10 RTM Core Volume:GVLK</td></tr>",
                            "<tr><td>Win 10 RTM CoreCountrySpecific Volume:GVLK</td></tr>",
                            "<tr><td>Win 10 RTM CoreN Volume:GVLK</td></tr>",
                            "<tr><td>Win 10 RTM CoreSingleLanguage Volume:GVLK</td></tr>",
                            "<tr><td>Win 10 RTM Education Volume:GVLK</td></tr>",
                            "<tr><td>Win 10 RTM EducationN Volume:GVLK</td></tr>",
                            "<tr><td>Win 10 RTM Enterprise Volume:GVLK</td></tr>",
                            "<tr><td>Win 10 RTM Enterprise;EnterpriseN;Professional;ProfessionalN;EnterpriseS;EnterpriseSN;Education;EducationN;ProfessionalWorkstation;ProfessionalWorkstationN Volume:CSVLK</td></tr>",
                            "<tr><td>Win 10 RTM Enterprise;EnterpriseN;Professional;ProfessionalN;EnterpriseS;EnterpriseSN;Education;EducationN;ProfessionalWorkstation;ProfessionalWorkstationN Volume:CSVLK VL Additional Lab</td></tr>",
                            "<tr><td>Win 10 RTM EnterpriseEval Retail:TB:Eval</td></tr>",
                            "<tr><td>Win 10 RTM EnterpriseG Volume:GVLK</td></tr>",
                            "<tr><td>Win 10 RTM EnterpriseGN Volume:GVLK</td></tr>",
                            "<tr><td>Win 10 RTM EnterpriseN Volume:GVLK</td></tr>",
                            "<tr><td>Win 10 RTM EnterpriseNEval Retail:TB:Eval</td></tr>",
                            "<tr><td>Win 10 RTM EnterpriseS Volume:GVLK</td></tr>",
                            "<tr><td>Win 10 RTM EnterpriseSEval Retail:TB:Eval</td></tr>",
                            "<tr><td>Win 10 RTM EnterpriseSN Volume:GVLK</td></tr>",
                            "<tr><td>Win 10 RTM EnterpriseSNEval Retail:TB:Eval</td></tr>",
                            "<tr><td>Win 10 RTM Professional Volume:GVLK</td></tr>",
                            "<tr><td>Win 10 RTM ProfessionalEducation Volume:GVLK</td></tr>",
                            "<tr><td>Win 10 RTM ProfessionalEducationN Volume:GVLK</td></tr>",
                            "<tr><td>Win 10 RTM ProfessionalN Volume:GVLK</td></tr>",
                            "<tr><td>Win 10 RTM ProfessionalWorkstation Volume:GVLK</td></tr>",
                            "<tr><td>Win 10 RTM ProfessionalWorkstationN Volume:GVLK</td></tr>",
                            "<tr><td>Win 11 RTM IoTEnterpriseS Volume:GVLK</td></tr>",
                            "<tr><td>Win 8 RTM Core Volume:GVLK</td></tr>",
                            "<tr><td>Win 8 RTM CoreARM Volume:GVLK</td></tr>",
                            "<tr><td>Win 8 RTM CoreCountrySpecific Volume:GVLK</td></tr>",
                            "<tr><td>Win 8 RTM CoreN Volume:GVLK</td></tr>",
                            "<tr><td>Win 8 RTM CoreSingleLanguage Volume:GVLK</td></tr>",
                            "<tr><td>Win 8 RTM Enterprise Volume:GVLK</td></tr>",
                            "<tr><td>Win 8 RTM Enterprise;EnterpriseN;Professional;ProfessionalN Volume:CSVLK</td></tr>",
                            "<tr><td>Win 8 RTM EnterpriseEval Retail:TB:Eval</td></tr>",
                            "<tr><td>Win 8 RTM EnterpriseN Volume:GVLK</td></tr>",
                            "<tr><td>Win 8 RTM Professional Volume:GVLK</td></tr>",
                            "<tr><td>Win 8 RTM ProfessionalN Volume:GVLK</td></tr>",
                            "<tr><td>Win 8 RTM ProfessionalWMC Volume:GVLK</td></tr>",
                            "<tr><td>Win 8.1 RTM Core Volume:GVLK</td></tr>",
                            "<tr><td>Win 8.1 RTM CoreARM Volume:GVLK</td></tr>",
                            "<tr><td>Win 8.1 RTM CoreConnected Volume:GVLK</td></tr>",
                            "<tr><td>Win 8.1 RTM CoreConnectedCountrySpecific Volume:GVLK</td></tr>",
                            "<tr><td>Win 8.1 RTM CoreConnectedN Volume:GVLK</td></tr>",
                            "<tr><td>Win 8.1 RTM CoreConnectedSingleLanguage Volume:GVLK</td></tr>",
                            "<tr><td>Win 8.1 RTM CoreCountrySpecific Volume:GVLK</td></tr>",
                            "<tr><td>Win 8.1 RTM CoreN Volume:GVLK</td></tr>",
                            "<tr><td>Win 8.1 RTM CoreSingleLanguage Volume:GVLK</td></tr>",
                            "<tr><td>Win 8.1 RTM Enterprise Volume:GVLK</td></tr>",
                            "<tr><td>Win 8.1 RTM Enterprise;EnterpriseN;Professional;ProfessionalN Volume:CSVLK</td></tr>",
                            "<tr><td>Win 8.1 RTM EnterpriseN Volume:GVLK</td></tr>",
                            "<tr><td>Win 8.1 RTM Professional Volume:GVLK</td></tr>",
                            "<tr><td>Win 8.1 RTM ProfessionalN Volume:GVLK</td></tr>",
                            "<tr><td>Win 8.1 RTM ProfessionalStudent Volume:GVLK</td></tr>",
                            "<tr><td>Win 8.1 RTM ProfessionalStudentN Volume:GVLK</td></tr>",
                            "<tr><td>Win 8.1 RTM ProfessionalWMC Volume:GVLK</td></tr>",
                            "<tr><td>Windows 7 All Volume Editions Volume:CSVLK</td></tr>",
                            "<tr><td>Windows 7 Enterprise Volume:GVLK</td></tr>",
                            "<tr><td>Windows 7 EnterpriseE Volume:GVLK</td></tr>",
                            "<tr><td>Windows 7 EnterpriseN Volume:GVLK</td></tr>",
                            "<tr><td>Windows 7 Professional Volume:GVLK</td></tr>",
                            "<tr><td>Windows 7 ProfessionalE Volume:GVLK</td></tr>",
                            "<tr><td>Windows 7 ProfessionalN Volume:GVLK</td></tr>",
                            "<tr><td>Windows Embedded Industry 8 RTM EmbeddedIndustry Retail:TB:Eval</td></tr>",
                            "<tr><td>Windows Embedded Industry 8 RTM EmbeddedIndustry Volume:GVLK</td></tr>",
                            "<tr><td>Windows Embedded Industry 8 RTM EmbeddedIndustryE Volume:GVLK</td></tr>",
                            "<tr><td>Windows Embedded Industry 8.1 RTM EmbeddedIndustry Volume:GVLK</td></tr>",
                            "<tr><td>Windows Embedded Industry 8.1 RTM EmbeddedIndustryA Volume:GVLK</td></tr>",
                            "<tr><td>Windows Embedded Industry 8.1 RTM EmbeddedIndustryE Volume:GVLK</td></tr>",
                            "<tr><td>Windows Embedded POSReady 7 POSReady Volume:GVLK</td></tr>",
                            "<tr><td>Windows Embedded Standard 8 RC Embedded Retail:TB:Eval</td></tr>",
                            "<tr><td>Windows Embedded Standard 8 RC EmbeddedE Retail:TB:Eval</td></tr>",
                            "<tr><td>Windows Embedded Standard 8 RTM Embedded Retail:TB:Eval</td></tr>",
                            "<tr><td>Windows Server 12 R2 RTM ServerDatacenter Volume:GVLK</td></tr>",
                            "<tr><td>Windows Server 12 R2 RTM ServerStandard Volume:GVLK</td></tr>",
                            "<tr><td>Windows Server 2008 Compute Cluster GVLK</td></tr>",
                            "<tr><td>Windows Server 2008 Datacenter &amp; Itanium CSVLK</td></tr>",
                            "<tr><td>Windows Server 2008 Datacenter GVLK</td></tr>",
                            "<tr><td>Windows Server 2008 DatacenterV GVLK</td></tr>",
                            "<tr><td>Windows Server 2008 Enterprise GVLK</td></tr>",
                            "<tr><td>Windows Server 2008 EnterpriseV GVLK</td></tr>",
                            "<tr><td>Windows Server 2008 Itanium GVLK</td></tr>",
                            "<tr><td>Windows Server 2008 Standard GVLK</td></tr>",
                            "<tr><td>Windows Server 2008 StandardV GVLK</td></tr>",
                            "<tr><td>Windows Server 2008 Web GVLK</td></tr>",
                            "<tr><td>Windows Server 2012 R2 RTM ServerDatacenter;ServerStandard Volume:CSVLK</td></tr>",
                            "<tr><td>Windows Server 2012 RTM ServerDatacenter Volume:GVLK</td></tr>",
                            "<tr><td>Windows Server 2012 RTM ServerStandard Volume:GVLK</td></tr>",
                            "<tr><td>Windows Server 2016 RTM ServerAzureCor Volume:GVLK</td></tr>",
                            "<tr><td>Windows Server 2016 RTM ServerDatacenter Volume:GVLK</td></tr>",
                            "<tr><td>Windows Server 2016 RTM ServerStandard Volume:GVLK</td></tr>",
                            "<tr><td>Windows Server 2019 RTM ServerARM64 Volume:GVLK</td></tr>",
                            "<tr><td>Windows Server 2019 RTM ServerAzureCor Volume:GVLK</td></tr>",
                            "<tr><td>Windows Server 2019 RTM ServerDatacenter Volume:GVLK</td></tr>",
                            "<tr><td>Windows Server 2019 RTM ServerDatacenterACor Volume:GVLK</td></tr>",
                            "<tr><td>Windows Server 2019 RTM ServerRdsh Volume:GVLK</td></tr>",
                            "<tr><td>Windows Server 2019 RTM ServerStandard Volume:GVLK</td></tr>",
                            "<tr><td>Windows Server 2019 RTM ServerStandardACor Volume:GVLK</td></tr>",
                            "<tr><td>Windows Server 2019 RTM ServerTurbine Volume:GVLK</td></tr>",
                            "<tr><td>Windows Server 2021 RTM ServerAzureCor Volume:GVLK</td></tr>",
                            "<tr><td>Windows Server 2021 RTM ServerDatacenter Volume:GVLK</td></tr>",
                            "<tr><td>Windows Server 2021 RTM ServerDatacenterACor Volume:GVLK</td></tr>",
                            "<tr><td>Windows Server 2021 RTM ServerDatacenterEval Retail:TB:Eval</td></tr>",
                            "<tr><td>Windows Server 2021 RTM ServerDatacenterEvalCor Retail:TB:Eval</td></tr>",
                            "<tr><td>Windows Server 2021 RTM ServerStandard Volume:GVLK</td></tr>",
                            "<tr><td>Windows Server 2021 RTM ServerStandardACor Volume:GVLK</td></tr>",
                            "<tr><td>Windows Server 2021 RTM ServerStandardEval Retail:TB:Eval</td></tr>",
                            "<tr><td>Windows Server 2021 RTM ServerStandardEvalCor Retail:TB:Eval</td></tr>",
                            "<tr><td>Windows Server 2025 RTM ServerDatacenter Volume:GVLK</td></tr>",
                            "<tr><td>Windows Server 2025 RTM ServerStandard Volume:GVLK</td></tr>",
                            "<tr><td>Windows Server 2025 RTM ServerTurbine Volume:GVLK</td></tr>",
                            "<tr><td>Windows Server Essentials 2012 R2 RTM ServerSolution Retail:TB:Eval</td></tr>",
                            "<tr><td>Windows Server Essentials 2012 R2 RTM ServerSolution Volume:GVLK</td></tr>",
                            "<tr><td>Windows Server Essentials 2012 RTM ServerSolution Volume:GVLK</td></tr>",
                            "<tr><td>Windows Server Essentials 2016 RTM ServerSolution Volume:GVLK</td></tr>",
                            "<tr><td>Windows Server Essentials 2019 RTM ServerSolution Volume:GVLK</td></tr>",
                            "<tr><td>Windows Server Next Beta ServerRdsh Volume:GVLK</td></tr>",
                            "<tr><td>Windows Thin PC Embedded Volume:GVLK</td></tr>",
                            "<tr><td>Windows Vista Business - GVLK</td></tr>",
                            "<tr><td>Windows Vista Business N - GVLK</td></tr>",
                            "<tr><td>Windows Vista Enterprise - GVLK</td></tr>",
                            "<tr><td>Windows Vista EnterpriseN GVLK</td></tr>",
                            "<tr><td>WinServer Next ServerDatacenter Volume:GVLK</td></tr>",
                            "<tr><td>WinServer Next ServerStandard Volume:GVLK</td></tr>",
                            "<tr><td>WinServer Next ServerWeb Volume:GVLK</td></tr>",
                            "</table>"
                        ]
                    }
                }
            ],
            "execution_count": 21
        },
        {
            "cell_type": "markdown",
            "source": [
                ""
            ],
            "metadata": {
                "azdata_cell_guid": "a4cb03ea-bba2-419d-889a-48d2dbf3b638"
            }
        }
    ]
}