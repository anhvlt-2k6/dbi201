{
    "metadata": {
        "kernelspec": {
            "name": "SQL",
            "display_name": "SQL",
            "language": "sql"
        },
        "language_info": {
            "name": "sql",
            "version": ""
        }
    },
    "nbformat_minor": 2,
    "nbformat": 4,
    "cells": [
        {
            "cell_type": "markdown",
            "source": [
                "# Session 11\r\n",
                "\r\n",
                "Sử dụng `Northwind` database\r\n",
                ""
            ],
            "metadata": {
                "azdata_cell_guid": "d7424564-dba0-4356-a1d6-bc41548908ee"
            },
            "attachments": {}
        },
        {
            "cell_type": "code",
            "source": [
                "USE [Northwind];\r\n",
                "GO"
            ],
            "metadata": {
                "azdata_cell_guid": "0631d0ca-12ed-452d-84b3-3ec6f8f35c9c",
                "language": "sql"
            },
            "outputs": [],
            "execution_count": null
        },
        {
            "cell_type": "markdown",
            "source": [
                "1. Hiển thị `CustomerID`, `CompanyName` từ bảng `Customer`"
            ],
            "metadata": {
                "azdata_cell_guid": "da7248c0-21f0-4435-825e-9cc754f72ecf"
            },
            "attachments": {}
        },
        {
            "cell_type": "code",
            "source": [
                "SELECT CustomerID, CompanyName\r\n",
                "    FROM Customers;"
            ],
            "metadata": {
                "azdata_cell_guid": "849aa83a-8a30-4eab-91c1-465085660088",
                "language": "sql"
            },
            "outputs": [],
            "execution_count": null
        },
        {
            "cell_type": "markdown",
            "source": [
                "2. Hiển thị tất cả các trường từ bảng `Products` với `CategoryID` bằng `1` hoặc `2` hoặc `6`."
            ],
            "metadata": {
                "azdata_cell_guid": "15d12ff3-b697-4cad-b574-3905f5195c44"
            },
            "attachments": {}
        },
        {
            "cell_type": "code",
            "source": [
                "SELECT *\r\n",
                "    FROM Products\r\n",
                "    WHERE CategoryID = 1 OR CategoryID = 2 OR CategoryID = 6;"
            ],
            "metadata": {
                "azdata_cell_guid": "6b7c2ca7-d51d-4c51-bfc8-7e5dc27000f2",
                "language": "sql",
                "tags": []
            },
            "outputs": [],
            "execution_count": null
        },
        {
            "cell_type": "markdown",
            "source": [
                "3. Hiển thị các sản phẩm (`Products`) có giá từ 40 đến 50 và sắp xếp theo tên sản phẩm (`ProductName`)"
            ],
            "metadata": {
                "azdata_cell_guid": "d26e1475-201d-4762-bb11-67e42f0fde98"
            },
            "attachments": {}
        },
        {
            "cell_type": "code",
            "source": [
                "SELECT *\r\n",
                "    FROM Products\r\n",
                "    WHERE UnitPrice >= 40 AND UnitPrice <= 50\r\n",
                "    ORDER BY ProductName;"
            ],
            "metadata": {
                "azdata_cell_guid": "8e691c20-4695-438d-aefd-50fc6c2e5a3c",
                "language": "sql"
            },
            "outputs": [],
            "execution_count": null
        },
        {
            "cell_type": "markdown",
            "source": [
                "4. Hiển thị 4 mẫu tin (`TOP 4`) đầu tiên trong bảng `Employees`"
            ],
            "metadata": {
                "azdata_cell_guid": "946c8777-37d8-473d-8a58-6a923ab90a90"
            },
            "attachments": {}
        },
        {
            "cell_type": "code",
            "source": [
                "SELECT TOP(4) *\r\n",
                "    FROM Employees;"
            ],
            "metadata": {
                "azdata_cell_guid": "0ca32067-58d8-4172-ac5f-90f9f0157c37",
                "language": "sql"
            },
            "outputs": [],
            "execution_count": null
        },
        {
            "cell_type": "markdown",
            "source": [
                "5. Hiển thị tất cả các cột từ bảng `Order Details` và `Amount` = (`UnitPrice * Quantity`)"
            ],
            "metadata": {
                "azdata_cell_guid": "bcd6094a-d9d8-40bc-a776-5348cb46b734"
            },
            "attachments": {}
        },
        {
            "cell_type": "code",
            "source": [
                "SELECT *, UnitPrice * Quantity AS Amount\r\n",
                "    FROM [Order Details];"
            ],
            "metadata": {
                "azdata_cell_guid": "da4520c3-f900-46f6-99df-eb148df895b3",
                "language": "sql"
            },
            "outputs": [],
            "execution_count": null
        },
        {
            "cell_type": "markdown",
            "source": [
                "6. Hiển thị thông tin tất cả các khách hàng (`Customers`) tên bắt đầu bằng ký tự `‘A’`"
            ],
            "metadata": {
                "azdata_cell_guid": "3fdbb5dc-7c8b-446e-a97e-c8afa17f4c84",
                "language": ""
            },
            "attachments": {}
        },
        {
            "cell_type": "code",
            "source": [
                "SELECT *\r\n",
                "    FROM Customers\r\n",
                "    WHERE ContactName LIKE 'A%';"
            ],
            "metadata": {
                "azdata_cell_guid": "79b4a12c-55a0-4b70-b706-e2728a910dbb",
                "language": "sql",
                "tags": []
            },
            "outputs": [],
            "execution_count": null
        },
        {
            "cell_type": "markdown",
            "source": [
                "7. Hiển thị danh sách loại sản phẩm (`Categories`) có tên loại (`CategoryName`) không kết thúc bằng ký tự `‘s’`"
            ],
            "metadata": {
                "azdata_cell_guid": "e3c218fa-3a1a-42f3-930d-59733e18b70f"
            },
            "attachments": {}
        },
        {
            "cell_type": "code",
            "source": [
                "SELECT *\r\n",
                "    FROM Categories\r\n",
                "    WHERE CategoryName NOT LIKE '%s';"
            ],
            "metadata": {
                "azdata_cell_guid": "682b0390-4d2f-4afc-b862-b6fd6cc6a20c",
                "language": "sql"
            },
            "outputs": [],
            "execution_count": null
        },
        {
            "cell_type": "markdown",
            "source": [
                "8. Hiển thị tên quốc gia, tên thành phố từ bảng `Suppliers`. Đảm bảo rằng các dòng dữ liệu trùng nhau  được loại khỏi danh sách"
            ],
            "metadata": {
                "azdata_cell_guid": "0fd3fcf7-75a6-4b4a-a0c2-c701eb1838b7"
            },
            "attachments": {}
        },
        {
            "cell_type": "code",
            "source": [
                "SELECT DISTINCT City, Country\r\n",
                "    FROM Suppliers;"
            ],
            "metadata": {
                "azdata_cell_guid": "fea7a324-1207-458d-8774-3e55d5ce7057",
                "language": "sql"
            },
            "outputs": [],
            "execution_count": null
        },
        {
            "cell_type": "markdown",
            "source": [
                "9. Hiển thị 3 sản phẩm (`Products`) có giá cao nhất"
            ],
            "metadata": {
                "azdata_cell_guid": "baedd31e-0de4-452a-a307-856400179e01",
                "language": ""
            },
            "attachments": {}
        },
        {
            "cell_type": "code",
            "source": [
                "SELECT TOP(3) *\r\n",
                "    FROM Products\r\n",
                "    ORDER BY UnitPrice DESC"
            ],
            "metadata": {
                "azdata_cell_guid": "39f82af9-bd5e-4142-865d-de8fa11dee63",
                "language": "sql"
            },
            "outputs": [],
            "execution_count": null
        },
        {
            "cell_type": "markdown",
            "source": [
                "10. Hiển thị tất cả các hóa đơn (Orders) đặt vào tháng 12/1997."
            ],
            "metadata": {
                "azdata_cell_guid": "5c8ec310-7536-4df7-a33f-552a3b19fdba"
            },
            "attachments": {}
        },
        {
            "cell_type": "code",
            "source": [
                "SELECT *\r\n",
                "    FROM Orders\r\n",
                "    WHERE OrderDate >= '1997-12-01' AND OrderDate <= '1997-12-31';"
            ],
            "metadata": {
                "azdata_cell_guid": "d74e4c07-6da4-4cc3-a79c-fa117ad37fbc",
                "language": "sql",
                "tags": []
            },
            "outputs": [],
            "execution_count": null
        }
    ]
}