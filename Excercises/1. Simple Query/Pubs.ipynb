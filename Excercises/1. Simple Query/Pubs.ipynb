{
    "metadata": {
        "kernelspec": {
            "name": "SQL",
            "display_name": "SQL",
            "language": "sql"
        },
        "language_info": {
            "name": "sql",
            "version": ""
        }
    },
    "nbformat_minor": 2,
    "nbformat": 4,
    "cells": [
        {
            "cell_type": "markdown",
            "source": [
                "# Session 11\r\n",
                "\r\n",
                "Sử dụng `Pubs` database\r\n",
                ""
            ],
            "metadata": {
                "azdata_cell_guid": "35182d54-8ab9-460c-841d-68c84d0709e9"
            },
            "attachments": {}
        },
        {
            "cell_type": "code",
            "source": [
                "USE [pubs];\r\n",
                "GO"
            ],
            "metadata": {
                "azdata_cell_guid": "da4c507e-4c37-4a64-9382-8b583a527aaf",
                "language": "sql"
            },
            "outputs": [],
            "execution_count": null
        },
        {
            "cell_type": "markdown",
            "source": [
                "1. Hiển thị tất cả các quyển sách thuộc loại `business`"
            ],
            "metadata": {
                "azdata_cell_guid": "f3c530d7-0867-4be6-bdbc-ddec4a2cc8a3"
            },
            "attachments": {}
        },
        {
            "cell_type": "code",
            "source": [
                "SELECT *\r\n",
                "    FROM titles\r\n",
                "    WHERE type = 'business';"
            ],
            "metadata": {
                "azdata_cell_guid": "edebdcd8-254e-49a1-8f55-cd5a940c58ca",
                "language": "sql"
            },
            "outputs": [],
            "execution_count": null
        },
        {
            "cell_type": "markdown",
            "source": [
                "2. Hiển thị các loại sách (`type`) từ bảng `titles`. Đảm bảo dữ liệu không có sự trùng nhau và sắp xếp theo thứ tự giảm dần."
            ],
            "metadata": {
                "language": "sql",
                "azdata_cell_guid": "27d86ba7-201a-4694-9d2a-41687257cca9"
            },
            "attachments": {}
        },
        {
            "cell_type": "code",
            "source": [
                "SELECT DISTINCT type\r\n",
                "    FROM titles\r\n",
                "    ORDER BY type DESC;"
            ],
            "metadata": {
                "azdata_cell_guid": "f9bbd2e0-9ffb-49b3-a36e-b57c7df25610",
                "language": "sql"
            },
            "outputs": [],
            "execution_count": null
        },
        {
            "cell_type": "markdown",
            "source": [
                "3. Hiển thị tất cả các mẫu tin trên bảng `sales`."
            ],
            "metadata": {
                "azdata_cell_guid": "5b6b6816-b357-4d81-b4a4-5574896b8f9b"
            },
            "attachments": {}
        },
        {
            "cell_type": "code",
            "source": [
                "SELECT *\r\n",
                "    FROm sales;"
            ],
            "metadata": {
                "azdata_cell_guid": "71a283c2-73ee-487d-9376-4aa89cf5b7de",
                "language": "sql"
            },
            "outputs": [],
            "execution_count": null
        },
        {
            "cell_type": "markdown",
            "source": [
                "4. Display all records in `Sales` table that were order in December 1993."
            ],
            "metadata": {
                "azdata_cell_guid": "272590f1-a6c1-4fde-8cbb-472256efddd8"
            },
            "attachments": {}
        },
        {
            "cell_type": "code",
            "source": [
                "SELECT *\n",
                "  FROM sales\n",
                "  WHERE ord_date >= '1993-12-01' AND ord_date <= '1993-12-31';"
            ],
            "metadata": {
                "azdata_cell_guid": "713b3d77-4b67-4553-9dd9-f55b2b3793b1",
                "language": "sql"
            },
            "outputs": [],
            "execution_count": null
        },
        {
            "cell_type": "markdown",
            "source": [
                "5. Hiển thị tất cả các tác giả ở thành phố `Oakland` và mã có chứa `93`"
            ],
            "metadata": {
                "azdata_cell_guid": "d2e9ce51-6ed7-475f-983d-6e3eccba9f54"
            },
            "attachments": {}
        },
        {
            "cell_type": "code",
            "source": [
                "SELECT *\r\n",
                "    FROM authors\r\n",
                "    WHERE city = 'Oakland' AND zip LIKE '%94%';"
            ],
            "metadata": {
                "azdata_cell_guid": "818b71d9-457f-4942-b68c-f6ff52972f21",
                "language": "sql"
            },
            "outputs": [],
            "execution_count": null
        },
        {
            "cell_type": "markdown",
            "source": [
                "6. Hiển thị tất cả các nhân viên làm việc cho nhà xuất bảng có mã `‘9901’` hoặc `‘9999’`"
            ],
            "metadata": {
                "azdata_cell_guid": "022a7ad6-28b8-4138-873f-ac3ddf4768c1"
            },
            "attachments": {}
        },
        {
            "cell_type": "code",
            "source": [
                "SELECT *\r\n",
                "    FROM employee\r\n",
                "    WHERE pub_id = '9901' OR pub_id = '9999';"
            ],
            "metadata": {
                "azdata_cell_guid": "47e7f6aa-0fc7-4cd5-b80d-40c82508680b",
                "language": "sql"
            },
            "outputs": [],
            "execution_count": null
        },
        {
            "cell_type": "markdown",
            "source": [
                "7. Hiển thị tất cả các nhân viên có mã bắt đầu bằng chữ `‘P’` hoặc `‘C’`."
            ],
            "metadata": {
                "language": "",
                "azdata_cell_guid": "a1411745-d6b4-425a-9ca4-a9850058da56"
            },
            "attachments": {}
        },
        {
            "cell_type": "code",
            "source": [
                "SELECT (fname + ' ' + lname) AS fullname\r\n",
                "    FROM employee\r\n",
                "    WHERE fname LIKE 'P%' OR fname LIKE 'C%';"
            ],
            "metadata": {
                "azdata_cell_guid": "ffa217d9-6661-4867-8f16-9ba462754468",
                "language": "sql"
            },
            "outputs": [],
            "execution_count": null
        }
    ]
}