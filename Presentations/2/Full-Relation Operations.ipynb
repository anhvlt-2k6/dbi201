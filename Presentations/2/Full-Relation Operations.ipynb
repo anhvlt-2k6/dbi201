{
    "metadata": {
        "kernelspec": {
            "name": "SQL",
            "display_name": "SQL",
            "language": "sql"
        },
        "language_info": {
            "name": "sql",
            "version": ""
        }
    },
    "nbformat_minor": 2,
    "nbformat": 4,
    "cells": [
        {
            "cell_type": "markdown",
            "source": [
                "# Full-Relation Operations\r\n",
                "\r\n",
                ""
            ],
            "metadata": {
                "azdata_cell_guid": "e20e9d20-0758-40d6-ab29-ed9c36b0c9c0"
            },
            "attachments": {}
        },
        {
            "cell_type": "code",
            "source": [
                "USE [vamtdb];\r\n",
                "GO"
            ],
            "metadata": {
                "azdata_cell_guid": "177248c3-66ae-431b-8ada-778dcbacf20f",
                "language": "sql"
            },
            "outputs": [],
            "execution_count": null
        },
        {
            "cell_type": "markdown",
            "source": [
                "## Eliminating Duplicates\r\n",
                "\r\n",
                "> Task: Select *uniquely* any product that has **at least** a key in table `ProductKey`"
            ],
            "metadata": {
                "azdata_cell_guid": "80a5f0cd-6351-4314-a8e7-11ccb12d5883"
            },
            "attachments": {}
        },
        {
            "cell_type": "code",
            "source": [
                "SELECT DISTINCT KeyDescription\r\n",
                "    FROM base.ProductKey\r\n",
                "    ORDER BY KeyDescription;"
            ],
            "metadata": {
                "azdata_cell_guid": "08aab9f4-bddb-4948-a7b8-985d29b83cb2",
                "language": "sql",
                "tags": []
            },
            "outputs": [],
            "execution_count": null
        },
        {
            "cell_type": "markdown",
            "source": [
                "## Aggregation Operators\r\n",
                "\r\n",
                "* `MIN()` - returns the smallest value within the selected column\r\n",
                "* `MAX()` - returns the largest value within the selected column\r\n",
                "* `COUNT()` - returns the number of rows in a set\r\n",
                "* `SUM()` - returns the total sum of a numerical column\r\n",
                "* `AVG()` - returns the average value of a numerical column\r\n",
                "\r\n",
                "> Task: Calculate number of product keys in table `ProductKey`\r\n",
                ""
            ],
            "metadata": {
                "azdata_cell_guid": "77fb9092-e016-4e24-b087-44ec39d3676e"
            },
            "attachments": {}
        },
        {
            "cell_type": "code",
            "source": [
                "SELECT Count(KeyValue) AS \"Count of Keys\"\r\n",
                "    FROM base.ProductKey"
            ],
            "metadata": {
                "azdata_cell_guid": "3de88585-c72d-44a0-9527-a4d39df0c838",
                "language": "sql"
            },
            "outputs": [],
            "execution_count": null
        },
        {
            "cell_type": "markdown",
            "source": [
                "## Group By\r\n",
                "\r\n",
                "> Task: For each product in table `ProductKey`, count its duplication. Order by `KeyDescription`"
            ],
            "metadata": {
                "azdata_cell_guid": "0d457d85-50df-4a46-85b1-58a64058d14f"
            },
            "attachments": {}
        },
        {
            "cell_type": "code",
            "source": [
                "SELECT KeyDescription, COUNT([KeyDescription]) AS DescriptionCount\r\n",
                "  FROM [base].[ProductKey]\r\n",
                "  GROUP BY [KeyDescription]\r\n",
                "  ORDER BY KeyDescription;"
            ],
            "metadata": {
                "azdata_cell_guid": "236d2e40-a2b4-4cd3-b5c0-485ee7806eb5",
                "language": "sql"
            },
            "outputs": [],
            "execution_count": null
        },
        {
            "cell_type": "markdown",
            "source": [
                "## Having clauses\r\n",
                "\r\n",
                "By using aggregate functions, we cannot use the first conditional statements (`WHERE`), so we use the second conditional statement after performing the aggregate functions\r\n",
                "\r\n",
                "> Task: From the query above, list only products that has more than 5 duplications in key. Order in `DescriptionCount`\r\n",
                ""
            ],
            "metadata": {
                "azdata_cell_guid": "436659c8-1f27-4916-8167-1dbbb032bcce"
            },
            "attachments": {}
        },
        {
            "cell_type": "code",
            "source": [
                "SELECT KeyDescription, COUNT([KeyDescription]) AS DescriptionCount\r\n",
                "  FROM [base].[ProductKey]\r\n",
                "  GROUP BY [KeyDescription]\r\n",
                "  HAVING COUNT([KeyDescription]) > 5\r\n",
                "  ORDER BY DescriptionCount;"
            ],
            "metadata": {
                "azdata_cell_guid": "4997f2cc-bc2a-43e5-960f-a986e745e55a",
                "language": "sql"
            },
            "outputs": [],
            "execution_count": null
        }
    ]
}